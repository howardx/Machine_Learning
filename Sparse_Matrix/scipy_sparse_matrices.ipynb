{
 "metadata": {
  "name": "",
  "signature": "sha256:9a4fa3843dde13765aa24b9c71a5718892bc9c94374e9064e87612a23ee8156e"
 },
 "nbformat": 3,
 "nbformat_minor": 0,
 "worksheets": [
  {
   "cells": [
    {
     "cell_type": "code",
     "collapsed": false,
     "input": [
      "from scipy.sparse import csr_matrix\n",
      "# other formats include CSC, BSR, BSC, etc....\n",
      "\n",
      "import numpy as np"
     ],
     "language": "python",
     "metadata": {},
     "outputs": [],
     "prompt_number": 2
    },
    {
     "cell_type": "code",
     "collapsed": false,
     "input": [
      "a = np.array([[1, 10, 0],\n",
      "              [-10, 2, 20],\n",
      "              [0, -20, 3]])\n",
      "\n",
      "aa = csr_matrix(a)"
     ],
     "language": "python",
     "metadata": {},
     "outputs": [],
     "prompt_number": 4
    },
    {
     "cell_type": "code",
     "collapsed": false,
     "input": [
      "def discoverSparseMatrix(sparseM):\n",
      "    print \"data/values in sparse matrix: \"\n",
      "    print sparseM.data\n",
      "    print len(sparseM.data)\n",
      "    print \"data/value indices for sparse matrix: \"\n",
      "    print sparseM.indices\n",
      "    print len(sparseM.indices)\n",
      "    print \"index used to lookup indices: \"\n",
      "    print sparseM.indptr\n",
      "    print len(sparseM.indptr)\n",
      "    print \"shape of sparse matrix: \"\n",
      "    print sparseM.shape"
     ],
     "language": "python",
     "metadata": {},
     "outputs": [],
     "prompt_number": 12
    },
    {
     "cell_type": "code",
     "collapsed": false,
     "input": [
      "discoverSparseMatrix(aa)"
     ],
     "language": "python",
     "metadata": {},
     "outputs": [
      {
       "output_type": "stream",
       "stream": "stdout",
       "text": [
        "data/values in sparse matrix: \n",
        "[  1  10 -10   2  20 -20   3]\n",
        "7\n",
        "data/value indices for sparse matrix: \n",
        "[0 1 0 1 2 1 2]\n",
        "7\n",
        "index used to lookup indices: \n",
        "[0 2 5 7]\n",
        "4\n",
        "shape of sparse matrix: \n",
        "(3, 3)\n"
       ]
      }
     ],
     "prompt_number": 13
    },
    {
     "cell_type": "code",
     "collapsed": false,
     "input": [
      "b = np.array([[1, 10, 0],\n",
      "              [0, 0, 0],\n",
      "              [0, 0, 0],\n",
      "              [-10, 2, 20],\n",
      "              [0, -20, 3]])\n",
      "\n",
      "bb = csr_matrix(b)"
     ],
     "language": "python",
     "metadata": {},
     "outputs": [],
     "prompt_number": 14
    },
    {
     "cell_type": "code",
     "collapsed": false,
     "input": [
      "discoverSparseMatrix(bb)"
     ],
     "language": "python",
     "metadata": {},
     "outputs": [
      {
       "output_type": "stream",
       "stream": "stdout",
       "text": [
        "data/values in sparse matrix: \n",
        "[  1  10 -10   2  20 -20   3]\n",
        "7\n",
        "data/value indices for sparse matrix: \n",
        "[0 1 0 1 2 1 2]\n",
        "7\n",
        "index used to lookup indices: \n",
        "[0 2 2 2 5 7]\n",
        "6\n",
        "shape of sparse matrix: \n",
        "(5, 3)\n"
       ]
      }
     ],
     "prompt_number": 15
    },
    {
     "cell_type": "code",
     "collapsed": false,
     "input": [
      "i = 0\n",
      "non_zero_column_indices_row_0 = bb.indices[bb.indptr[i] : bb.indptr[i + 1]] # end exclusive slice\n",
      "print non_zero_column_indices_row_0"
     ],
     "language": "python",
     "metadata": {},
     "outputs": [
      {
       "output_type": "stream",
       "stream": "stdout",
       "text": [
        "[0 1]\n"
       ]
      }
     ],
     "prompt_number": 19
    },
    {
     "cell_type": "code",
     "collapsed": false,
     "input": [
      "i = 1\n",
      "non_zero_column_indices_row_1 = bb.indices[bb.indptr[i] : bb.indptr[i + 1]] # end exclusive slice\n",
      "print non_zero_column_indices_row_1 # NO non-zero values on row 1"
     ],
     "language": "python",
     "metadata": {},
     "outputs": [
      {
       "output_type": "stream",
       "stream": "stdout",
       "text": [
        "[]\n"
       ]
      }
     ],
     "prompt_number": 20
    },
    {
     "cell_type": "code",
     "collapsed": false,
     "input": [
      "i = 1\n",
      "non_zero_column_indices_row = bb.indices[bb.indptr[i]]\n",
      "print non_zero_column_indices_row "
     ],
     "language": "python",
     "metadata": {},
     "outputs": [
      {
       "output_type": "stream",
       "stream": "stdout",
       "text": [
        "0\n"
       ]
      }
     ],
     "prompt_number": 21
    },
    {
     "cell_type": "code",
     "collapsed": false,
     "input": [
      "c = np.array([[1,2,0,0],\n",
      "              [0,3,4,0],\n",
      "              [0,0,5,6],\n",
      "              [7,0,8,9]])\n",
      "              \n",
      "cc = csr_matrix(c)"
     ],
     "language": "python",
     "metadata": {},
     "outputs": [],
     "prompt_number": 23
    },
    {
     "cell_type": "markdown",
     "metadata": {},
     "source": [
      "# For CSR formatted sparse matrix CC:\n",
      "- The nonzero values are [1,2,3,4,5,6,7,8,9] (.data)\n",
      "- column indices corresponding to the nonzero values in the FIRST row are [0, 1], the SECOND row are [1, 2], etc.\n",
      "- Concatenating all of these column index lists gives the .indices array [0, 1, 1, 2, 2, 3, 0, 2, 3]\n",
      "\n",
      "# To keep track of which row entries in this column index array correspond to\n",
      "- store the STARTING position for nonzero values in each row in .indptr array\n",
      "- The column indices of the FIRST row are elements 0 to 1 in column index list (.indices)\n",
      "- The column indices of the SECOND row are elements 2 to 3 in column index list (.indices)\n",
      "- The column indices of the THIRD row are elements 4 to 5 in column index list (.indices)\n",
      "- The column indices of the FORTH row are elements 6 to 8 in column index list (.indices)\n",
      "\n",
      "# Collecting the STARTING indices in .indices array gives [0, 2, 4, 6] - for convenience in implementation, we also add at the end of this array the TOTAL number of nonzero elements, hence [0, 2, 4, 6, 9] for .indptr\n",
      "\n",
      "# nonzero elements in row i are stored in .data array between index indptr[i] and indptr[i+1] - 1\n",
      "\n",
      "# column indices for nonzero elements in row i are stored in .indices array between index indptr[i] and indptr[i+1] - 1"
     ]
    },
    {
     "cell_type": "code",
     "collapsed": false,
     "input": [
      "discoverSparseMatrix(cc)"
     ],
     "language": "python",
     "metadata": {},
     "outputs": [
      {
       "output_type": "stream",
       "stream": "stdout",
       "text": [
        "data/values in sparse matrix: \n",
        "[1 2 3 4 5 6 7 8 9]\n",
        "9\n",
        "data/value indices for sparse matrix: \n",
        "[0 1 1 2 2 3 0 2 3]\n",
        "9\n",
        "index used to lookup indices: \n",
        "[0 2 4 6 9]\n",
        "5\n",
        "shape of sparse matrix: \n",
        "(4, 4)\n"
       ]
      }
     ],
     "prompt_number": 28
    },
    {
     "cell_type": "code",
     "collapsed": false,
     "input": [
      "# Take the third row as example\n",
      "i = 2 # row index 2\n",
      "print cc.indptr[i] # starting column index for non zero values on row i\n",
      "print cc.indptr[i + 1] - 1 # end column index for non zero values on row i"
     ],
     "language": "python",
     "metadata": {},
     "outputs": [
      {
       "output_type": "stream",
       "stream": "stdout",
       "text": [
        "4\n",
        "5\n"
       ]
      }
     ],
     "prompt_number": 26
    },
    {
     "cell_type": "code",
     "collapsed": false,
     "input": [
      "cc.data[cc.indptr[i] : cc.indptr[i+1]] # END EXCLUSIVE slice"
     ],
     "language": "python",
     "metadata": {},
     "outputs": [
      {
       "metadata": {},
       "output_type": "pyout",
       "prompt_number": 27,
       "text": [
        "array([5, 6])"
       ]
      }
     ],
     "prompt_number": 27
    }
   ],
   "metadata": {}
  }
 ]
}