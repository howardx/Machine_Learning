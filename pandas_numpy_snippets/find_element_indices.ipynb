{
 "metadata": {
  "name": "",
  "signature": "sha256:3f2051b5c832c621e2bab7477727f82a138b0e7bbe253ec7cb82630fd0129b53"
 },
 "nbformat": 3,
 "nbformat_minor": 0,
 "worksheets": [
  {
   "cells": [
    {
     "cell_type": "code",
     "collapsed": false,
     "input": [
      "import pandas as pd\n",
      "import numpy as np\n",
      "\n",
      "d = {'words': ['a', 'a', 'b', 'a', 'b', 'a', 'b', 'c', 'c', 'c', 'd', 'a', 'b', 'c', 'd'],\n",
      "     'info':  [222, 222, 222, 222, 222, 222, 222, 222, 222, 222, 222, 222, 222, 222, 222]}"
     ],
     "language": "python",
     "metadata": {},
     "outputs": [],
     "prompt_number": 23
    },
    {
     "cell_type": "code",
     "collapsed": false,
     "input": [
      "df = pd.DataFrame(data=d)\n",
      "\n",
      "print df"
     ],
     "language": "python",
     "metadata": {},
     "outputs": [
      {
       "output_type": "stream",
       "stream": "stdout",
       "text": [
        "    info words\n",
        "0    222     a\n",
        "1    222     a\n",
        "2    222     b\n",
        "3    222     a\n",
        "4    222     b\n",
        "5    222     a\n",
        "6    222     b\n",
        "7    222     c\n",
        "8    222     c\n",
        "9    222     c\n",
        "10   222     d\n",
        "11   222     a\n",
        "12   222     b\n",
        "13   222     c\n",
        "14   222     d\n"
       ]
      }
     ],
     "prompt_number": 24
    },
    {
     "cell_type": "markdown",
     "metadata": {},
     "source": [
      "# numpy.unique() will sort the array-like and remove duplicates\n",
      "\n",
      "# return_inverse parameter set to True will get the indices into the sorted array (from numpy.unique()) that give the values of the original array"
     ]
    },
    {
     "cell_type": "code",
     "collapsed": false,
     "input": [
      "#np.argsort(df.words)\n",
      "\n",
      "#np.unique(df.words, return_inverse = True) \n",
      "\n",
      "uniques = np.unique(df.words)"
     ],
     "language": "python",
     "metadata": {},
     "outputs": [],
     "prompt_number": 54
    },
    {
     "cell_type": "code",
     "collapsed": false,
     "input": [
      "def findIndices(element, df):\n",
      "    return np.where(df.words == element)\n",
      "\n",
      "findIndices(uniques[1], df)"
     ],
     "language": "python",
     "metadata": {},
     "outputs": [
      {
       "metadata": {},
       "output_type": "pyout",
       "prompt_number": 55,
       "text": [
        "(array([ 2,  4,  6, 12]),)"
       ]
      }
     ],
     "prompt_number": 55
    },
    {
     "cell_type": "code",
     "collapsed": false,
     "input": [
      "print type(itertools.repeat(df))\n",
      "\n",
      "a = itertools.repeat(df, len(uniques)) \n",
      "print a.next()\n",
      "print a.next()"
     ],
     "language": "python",
     "metadata": {},
     "outputs": [
      {
       "output_type": "stream",
       "stream": "stdout",
       "text": [
        "<type 'itertools.repeat'>\n",
        "    info words\n",
        "0    222     a\n",
        "1    222     a\n",
        "2    222     b\n",
        "3    222     a\n",
        "4    222     b\n",
        "5    222     a\n",
        "6    222     b\n",
        "7    222     c\n",
        "8    222     c\n",
        "9    222     c\n",
        "10   222     d\n",
        "11   222     a\n",
        "12   222     b\n",
        "13   222     c\n",
        "14   222     d\n",
        "    info words\n",
        "0    222     a\n",
        "1    222     a\n",
        "2    222     b\n",
        "3    222     a\n",
        "4    222     b\n",
        "5    222     a\n",
        "6    222     b\n",
        "7    222     c\n",
        "8    222     c\n",
        "9    222     c\n",
        "10   222     d\n",
        "11   222     a\n",
        "12   222     b\n",
        "13   222     c\n",
        "14   222     d\n"
       ]
      }
     ],
     "prompt_number": 56
    },
    {
     "cell_type": "code",
     "collapsed": false,
     "input": [
      "import itertools\n",
      "\n",
      "map(findIndices, uniques, itertools.repeat(df, len(uniques)))"
     ],
     "language": "python",
     "metadata": {},
     "outputs": [
      {
       "metadata": {},
       "output_type": "pyout",
       "prompt_number": 57,
       "text": [
        "[(array([ 0,  1,  3,  5, 11]),),\n",
        " (array([ 2,  4,  6, 12]),),\n",
        " (array([ 7,  8,  9, 13]),),\n",
        " (array([10, 14]),)]"
       ]
      }
     ],
     "prompt_number": 57
    },
    {
     "cell_type": "code",
     "collapsed": false,
     "input": [],
     "language": "python",
     "metadata": {},
     "outputs": []
    }
   ],
   "metadata": {}
  }
 ]
}