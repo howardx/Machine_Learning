{
 "metadata": {
  "name": "",
  "signature": "sha256:d8851a11672d43b63a4fffe32b0bf1b04477893a0bb8a22644cf160618e3ab93"
 },
 "nbformat": 3,
 "nbformat_minor": 0,
 "worksheets": [
  {
   "cells": [
    {
     "cell_type": "code",
     "collapsed": false,
     "input": [
      "from IPython.core.display import HTML\n",
      "HTML(\"<style>.container { width:100% !important; }</style>\")"
     ],
     "language": "python",
     "metadata": {},
     "outputs": [
      {
       "html": [
        "<style>.container { width:100% !important; }</style>"
       ],
       "metadata": {},
       "output_type": "pyout",
       "prompt_number": 5,
       "text": [
        "<IPython.core.display.HTML at 0x7f7f56693b50>"
       ]
      }
     ],
     "prompt_number": 5
    },
    {
     "cell_type": "code",
     "collapsed": false,
     "input": [
      "import numpy as np\n",
      "import pandas as pd\n",
      "from sklearn.ensemble import RandomForestRegressor\n",
      "\n",
      "from sklearn import pipeline, grid_search\n",
      "\n",
      "from sklearn.base import BaseEstimator, TransformerMixin\n",
      "from sklearn.pipeline import FeatureUnion\n",
      "from sklearn.decomposition import TruncatedSVD\n",
      "\n",
      "from sklearn.feature_extraction.text import TfidfVectorizer\n",
      "from sklearn.metrics import mean_squared_error, make_scorer"
     ],
     "language": "python",
     "metadata": {},
     "outputs": [],
     "prompt_number": 6
    },
    {
     "cell_type": "code",
     "collapsed": false,
     "input": [
      "mydata = [\n",
      "{'id':'B14', 'relevance':1.5, 'search_term':'dandruff shampoo', 'product_title':'Dove dandruff','product_description':'awsome anti-dandruff shampoo',\n",
      " 'product_info':'3 pack shampoo', 'attr':'webpage', 'brand':'Dove', 'customer rating':4},\n",
      "{'id':'B1', 'relevance':5, 'search_term':'soap bar', 'product_title':'Dove soap bar','product_description':'awsome hydrating soap bar',\n",
      " 'product_info':'3 pack soap bar', 'attr':'mobile link', 'brand':'Dove pro', 'customer rating':3.5},\n",
      "{'id':'A4', 'relevance':1, 'search_term':'razor blade', 'product_title':'Giellet pro-glide','product_description':'awsome Giellet pro-glide',\n",
      " 'product_info':'12 pack razor blade', 'attr':'online ad', 'brand':'Giellet', 'customer rating':5},\n",
      "{'id':'4', 'relevance':1, 'search_term':'razor', 'product_title':'Giellet fusion pro-glide','product_description':'awsome Giellet razor blade',\n",
      " 'product_info':'12 pack razor blade', 'attr':'online ad', 'brand':'Giellet fusion', 'customer rating':5},]\n",
      "\n",
      "test = [\n",
      "{'id':'14', 'relevance':5, 'search_term':'dandruff shampoo', 'product_title':'Head and Shoulders dandruff',\n",
      " 'product_description':'anti-dandruff shampoo and conditioner', 'product_info':'6 pack shampoo', 'attr':'mobile link', \n",
      " 'brand':'Head and Shoulders', 'customer rating':4.5},\n",
      "{'id':'1', 'relevance':4.5, 'search_term':'shower gel', 'product_title':'Axe shower gel','product_description':'hydrating shower gel',\n",
      " 'product_info':'axe shower gel deep clense', 'attr':'mobile link', 'brand':'axe', 'customer rating':2.5},]\n",
      "\n",
      "df = pd.DataFrame(mydata)\n",
      "testing_set = pd.DataFrame(test)\n",
      "\n",
      "y_train = df['relevance'].values\n",
      "X_train = df\n",
      "\n",
      "y_test = testing_set['relevance'].values\n",
      "X_test = testing_set"
     ],
     "language": "python",
     "metadata": {},
     "outputs": [],
     "prompt_number": 7
    },
    {
     "cell_type": "code",
     "collapsed": false,
     "input": [
      "class cust_regression_vals(BaseEstimator, TransformerMixin):\n",
      "    def fit(self, x, y=None):\n",
      "        return self\n",
      "    def transform(self, hd_searches):\n",
      "        d_col_drops=['id','relevance','search_term','product_title','product_description','product_info','attr','brand']\n",
      "        hd_searches = hd_searches.drop(d_col_drops,axis=1).values\n",
      "        return hd_searches"
     ],
     "language": "python",
     "metadata": {},
     "outputs": [],
     "prompt_number": 8
    },
    {
     "cell_type": "code",
     "collapsed": false,
     "input": [
      "class cust_txt_col(BaseEstimator, TransformerMixin):\n",
      "    def __init__(self, key):\n",
      "        self.key = key\n",
      "    def fit(self, x, y=None):\n",
      "        return self\n",
      "    def transform(self, df):\n",
      "        return df[self.key].apply(str)"
     ],
     "language": "python",
     "metadata": {},
     "outputs": [],
     "prompt_number": 9
    },
    {
     "cell_type": "code",
     "collapsed": false,
     "input": [
      "print type(df)\n",
      "X_train"
     ],
     "language": "python",
     "metadata": {},
     "outputs": [
      {
       "output_type": "stream",
       "stream": "stdout",
       "text": [
        "<class 'pandas.core.frame.DataFrame'>\n"
       ]
      },
      {
       "html": [
        "<div style=\"max-width:1500px;overflow:auto;\">\n",
        "<table border=\"1\" class=\"dataframe\">\n",
        "  <thead>\n",
        "    <tr style=\"text-align: right;\">\n",
        "      <th></th>\n",
        "      <th>attr</th>\n",
        "      <th>brand</th>\n",
        "      <th>customer rating</th>\n",
        "      <th>id</th>\n",
        "      <th>product_description</th>\n",
        "      <th>product_info</th>\n",
        "      <th>product_title</th>\n",
        "      <th>relevance</th>\n",
        "      <th>search_term</th>\n",
        "    </tr>\n",
        "  </thead>\n",
        "  <tbody>\n",
        "    <tr>\n",
        "      <th>0</th>\n",
        "      <td>webpage</td>\n",
        "      <td>Dove</td>\n",
        "      <td>4.0</td>\n",
        "      <td>B14</td>\n",
        "      <td>awsome anti-dandruff shampoo</td>\n",
        "      <td>3 pack shampoo</td>\n",
        "      <td>Dove dandruff</td>\n",
        "      <td>1.5</td>\n",
        "      <td>dandruff shampoo</td>\n",
        "    </tr>\n",
        "    <tr>\n",
        "      <th>1</th>\n",
        "      <td>mobile link</td>\n",
        "      <td>Dove pro</td>\n",
        "      <td>3.5</td>\n",
        "      <td>B1</td>\n",
        "      <td>awsome hydrating soap bar</td>\n",
        "      <td>3 pack soap bar</td>\n",
        "      <td>Dove soap bar</td>\n",
        "      <td>5.0</td>\n",
        "      <td>soap bar</td>\n",
        "    </tr>\n",
        "    <tr>\n",
        "      <th>2</th>\n",
        "      <td>online ad</td>\n",
        "      <td>Giellet</td>\n",
        "      <td>5.0</td>\n",
        "      <td>A4</td>\n",
        "      <td>awsome Giellet pro-glide</td>\n",
        "      <td>12 pack razor blade</td>\n",
        "      <td>Giellet pro-glide</td>\n",
        "      <td>1.0</td>\n",
        "      <td>razor blade</td>\n",
        "    </tr>\n",
        "    <tr>\n",
        "      <th>3</th>\n",
        "      <td>online ad</td>\n",
        "      <td>Giellet fusion</td>\n",
        "      <td>5.0</td>\n",
        "      <td>4</td>\n",
        "      <td>awsome Giellet razor blade</td>\n",
        "      <td>12 pack razor blade</td>\n",
        "      <td>Giellet fusion pro-glide</td>\n",
        "      <td>1.0</td>\n",
        "      <td>razor</td>\n",
        "    </tr>\n",
        "  </tbody>\n",
        "</table>\n",
        "</div>"
       ],
       "metadata": {},
       "output_type": "pyout",
       "prompt_number": 10,
       "text": [
        "          attr           brand  customer rating   id  \\\n",
        "0      webpage            Dove              4.0  B14   \n",
        "1  mobile link        Dove pro              3.5   B1   \n",
        "2    online ad         Giellet              5.0   A4   \n",
        "3    online ad  Giellet fusion              5.0    4   \n",
        "\n",
        "            product_description         product_info  \\\n",
        "0  awsome anti-dandruff shampoo       3 pack shampoo   \n",
        "1     awsome hydrating soap bar      3 pack soap bar   \n",
        "2      awsome Giellet pro-glide  12 pack razor blade   \n",
        "3    awsome Giellet razor blade  12 pack razor blade   \n",
        "\n",
        "              product_title  relevance       search_term  \n",
        "0             Dove dandruff        1.5  dandruff shampoo  \n",
        "1             Dove soap bar        5.0          soap bar  \n",
        "2         Giellet pro-glide        1.0       razor blade  \n",
        "3  Giellet fusion pro-glide        1.0             razor  "
       ]
      }
     ],
     "prompt_number": 10
    },
    {
     "cell_type": "code",
     "collapsed": false,
     "input": [
      "# instantiate transformers to be used in the feature union pipeline\n",
      "tfidf = TfidfVectorizer(ngram_range=(1, 1), stop_words='english')\n",
      "#tsvd = TruncatedSVD(n_components = 2, random_state = 2016)\n",
      "tsvd = TruncatedSVD(n_components = 20, random_state = 2016)\n",
      "\n",
      "# custom transformer cust_txt_col()\n",
      "ctc_customer_rating = cust_txt_col('customer rating') # specify column name to convert to string\n",
      "ctc_brand = cust_txt_col('brand')\n",
      "\n",
      "# custom transformer cust_regression_vals()\n",
      "crv = cust_regression_vals() # nothing needed from constructor - not even a constructor in class"
     ],
     "language": "python",
     "metadata": {},
     "outputs": [],
     "prompt_number": 11
    },
    {
     "cell_type": "code",
     "collapsed": false,
     "input": [
      "print ctc_customer_rating.transform(df)\n",
      "print type(ctc_customer_rating.transform(df).values[0]) # ctc transformer makes sure to convert elements to string type\n",
      "\n",
      "brand = ctc_brand.transform(df)"
     ],
     "language": "python",
     "metadata": {},
     "outputs": [
      {
       "output_type": "stream",
       "stream": "stdout",
       "text": [
        "0    4.0\n",
        "1    3.5\n",
        "2    5.0\n",
        "3    5.0\n",
        "Name: customer rating, dtype: object\n",
        "<type 'str'>\n"
       ]
      }
     ],
     "prompt_number": 12
    },
    {
     "cell_type": "code",
     "collapsed": false,
     "input": [
      "tfidf_from_df = tfidf.fit_transform(brand)\n",
      "\n",
      "print tfidf.get_feature_names() # all term/feature names in input \n",
      "print tfidf_from_df"
     ],
     "language": "python",
     "metadata": {},
     "outputs": [
      {
       "output_type": "stream",
       "stream": "stdout",
       "text": [
        "[u'dove', u'fusion', u'giellet', u'pro']\n",
        "  (0, 0)\t1.0\n",
        "  (1, 3)\t0.78528827571\n",
        "  (1, 0)\t0.61913029649\n",
        "  (2, 2)\t1.0\n",
        "  (3, 1)\t0.78528827571\n",
        "  (3, 2)\t0.61913029649\n"
       ]
      }
     ],
     "prompt_number": 13
    },
    {
     "cell_type": "code",
     "collapsed": false,
     "input": [
      "# cust_regression_vals() transformer drops all non-numeric columns and target/predictor column, then converts the rest to numpy array\n",
      "crv_transformed = crv.transform(df)\n",
      "crv_transformed"
     ],
     "language": "python",
     "metadata": {},
     "outputs": [
      {
       "metadata": {},
       "output_type": "pyout",
       "prompt_number": 14,
       "text": [
        "array([[ 4. ],\n",
        "       [ 3.5],\n",
        "       [ 5. ],\n",
        "       [ 5. ]])"
       ]
      }
     ],
     "prompt_number": 14
    },
    {
     "cell_type": "code",
     "collapsed": false,
     "input": [
      "rfr = RandomForestRegressor(n_estimators = 3, n_jobs = -1, random_state = 2016, verbose = 1)"
     ],
     "language": "python",
     "metadata": {},
     "outputs": [],
     "prompt_number": 15
    },
    {
     "cell_type": "markdown",
     "metadata": {},
     "source": [
      "# FeatureUnion Concatenates results of multiple transformer objects\n",
      "- This example feeds the output of the input dataframe into each of the 'cst', 'txt1', 'txt2' and other pipeline steps, then concatenates their outputs (ALONG AXIS 1) before feeding it into the random forest classifier\n",
      "\n",
      "- \"transformer_weights\" contains multiplicative weights for features per transformer"
     ]
    },
    {
     "cell_type": "code",
     "collapsed": false,
     "input": [
      "clf = pipeline.Pipeline([\n",
      "    ('union', FeatureUnion(\n",
      "        transformer_list = \n",
      "        [\n",
      "            ('cst',  cust_regression_vals()),  \n",
      "            ('txt1', pipeline.Pipeline([('s1', cust_txt_col(key='search_term')), ('tfidf1', tfidf), ('tsvd1', tsvd)])),\n",
      "            ('txt2', pipeline.Pipeline([('s2', cust_txt_col(key='product_title')), ('tfidf2', tfidf), ('tsvd2', tsvd)])),\n",
      "            ('txt3', pipeline.Pipeline([('s3', cust_txt_col(key='product_description')), ('tfidf3', tfidf), ('tsvd3', tsvd)])),\n",
      "            ('txt4', pipeline.Pipeline([('s4', cust_txt_col(key='brand')), ('tfidf4', tfidf), ('tsvd4', tsvd)]))\n",
      "        ],\n",
      "        transformer_weights = \n",
      "        {\n",
      "            'cst': 1.0,\n",
      "            'txt1': 0.5,\n",
      "            'txt2': 0.25,\n",
      "            'txt3': 0.05,\n",
      "            'txt4': 0.5\n",
      "        },\n",
      "        #n_jobs = -1 # tells python to run this pipeline in parallel\n",
      "    )), \n",
      "    ('rfr', rfr)])"
     ],
     "language": "python",
     "metadata": {},
     "outputs": [],
     "prompt_number": 16
    },
    {
     "cell_type": "markdown",
     "metadata": {},
     "source": [
      "# Break the above customized classifier \"clf\" into pieces\n",
      "- first take out the feature generation piece only"
     ]
    },
    {
     "cell_type": "code",
     "collapsed": false,
     "input": [
      "# split out feature building steps from above clf pipeline\n",
      "feature_builder = pipeline.Pipeline([\n",
      "    ('union', FeatureUnion(\n",
      "        transformer_list = \n",
      "        [\n",
      "            ('cst',  cust_regression_vals()),  \n",
      "            ('txt1', pipeline.Pipeline([('s1', cust_txt_col(key='search_term')), ('tfidf1', tfidf), ('tsvd1', tsvd)])),\n",
      "            ('txt2', pipeline.Pipeline([('s2', cust_txt_col(key='product_title')), ('tfidf2', tfidf), ('tsvd2', tsvd)])),\n",
      "            ('txt3', pipeline.Pipeline([('s3', cust_txt_col(key='product_description')), ('tfidf3', tfidf), ('tsvd3', tsvd)])),\n",
      "            ('txt4', pipeline.Pipeline([('s4', cust_txt_col(key='brand')), ('tfidf4', tfidf), ('tsvd4', tsvd)]))\n",
      "        ],\n",
      "        transformer_weights = \n",
      "        {\n",
      "            'cst': 1.0,\n",
      "            'txt1': 0.5,\n",
      "            'txt2': 0.25,\n",
      "            'txt3': 0.05,\n",
      "            'txt4': 0.5\n",
      "        },\n",
      "        n_jobs = -1 # tells python to run this pipeline in parallel\n",
      "    ))])"
     ],
     "language": "python",
     "metadata": {},
     "outputs": [],
     "prompt_number": 17
    },
    {
     "cell_type": "markdown",
     "metadata": {},
     "source": [
      "# Take out one transformer from the feature generation pipeline and explore what it does\n",
      "- customized transformer \"txt4\" for feature \"product_description\""
     ]
    },
    {
     "cell_type": "code",
     "collapsed": false,
     "input": [
      "# What txt4 looks like\n",
      "print X_train['product_description'] # all input data \n",
      "\n",
      "txt4 = pipeline.Pipeline([('s3', cust_txt_col(key='product_description')), ('tfidf3', tfidf), ('tsvd3', tsvd)])\n",
      "print \"txt4 custom transformer instantiated\""
     ],
     "language": "python",
     "metadata": {},
     "outputs": [
      {
       "output_type": "stream",
       "stream": "stdout",
       "text": [
        "0    awsome anti-dandruff shampoo\n",
        "1       awsome hydrating soap bar\n",
        "2        awsome Giellet pro-glide\n",
        "3      awsome Giellet razor blade\n",
        "Name: product_description, dtype: object\n",
        "txt4 custom transformer instantiated\n"
       ]
      }
     ],
     "prompt_number": 18
    },
    {
     "cell_type": "code",
     "collapsed": false,
     "input": [
      "# What txt4 should do WITHOUT pipeline - STEP I\n",
      "ctc_product_desc = cust_txt_col(key='product_description')\n",
      "all_string_type = ctc_product_desc.fit_transform(X_train) \n",
      "\n",
      "print all_string_type.apply(type)"
     ],
     "language": "python",
     "metadata": {},
     "outputs": [
      {
       "output_type": "stream",
       "stream": "stdout",
       "text": [
        "0    <type 'str'>\n",
        "1    <type 'str'>\n",
        "2    <type 'str'>\n",
        "3    <type 'str'>\n",
        "Name: product_description, dtype: object\n"
       ]
      }
     ],
     "prompt_number": 19
    },
    {
     "cell_type": "code",
     "collapsed": false,
     "input": [
      "# What txt4 should do WITHOUT pipeline - STEP II\n",
      "tfidf_product_desc = tfidf.fit_transform(all_string_type)\n",
      "\n",
      "print tfidf.get_feature_names()\n",
      "print tfidf_product_desc.toarray().shape\n",
      "print tfidf_product_desc.toarray()"
     ],
     "language": "python",
     "metadata": {},
     "outputs": [
      {
       "output_type": "stream",
       "stream": "stdout",
       "text": [
        "[u'anti', u'awsome', u'bar', u'blade', u'dandruff', u'giellet', u'glide', u'hydrating', u'pro', u'razor', u'shampoo', u'soap']\n",
        "(4, 12)\n",
        "[[ 0.55280532  0.28847675  0.          0.          0.55280532  0.          0.\n",
        "   0.          0.          0.          0.55280532  0.        ]\n",
        " [ 0.          0.28847675  0.55280532  0.          0.          0.          0.\n",
        "   0.55280532  0.          0.          0.          0.55280532]\n",
        " [ 0.          0.30675807  0.          0.          0.          0.46345796\n",
        "   0.58783765  0.          0.58783765  0.          0.          0.        ]\n",
        " [ 0.          0.30675807  0.          0.58783765  0.          0.46345796\n",
        "   0.          0.          0.          0.58783765  0.          0.        ]]\n"
       ]
      }
     ],
     "prompt_number": 20
    },
    {
     "cell_type": "code",
     "collapsed": false,
     "input": [
      "# What txt4 should do WITHOUT pipeline - STEP III\n",
      "tsvd_product_desc = tsvd.fit_transform(tfidf_product_desc)\n",
      "print tsvd_product_desc"
     ],
     "language": "python",
     "metadata": {},
     "outputs": [
      {
       "ename": "ValueError",
       "evalue": "n_components must be < n_features; got 20 >= 12",
       "output_type": "pyerr",
       "traceback": [
        "\u001b[1;31m---------------------------------------------------------------------------\u001b[0m\n\u001b[1;31mValueError\u001b[0m                                Traceback (most recent call last)",
        "\u001b[1;32m<ipython-input-21-bfcb9279c58c>\u001b[0m in \u001b[0;36m<module>\u001b[1;34m()\u001b[0m\n\u001b[0;32m      1\u001b[0m \u001b[1;31m# What txt4 should do WITHOUT pipeline - STEP III\u001b[0m\u001b[1;33m\u001b[0m\u001b[1;33m\u001b[0m\u001b[0m\n\u001b[1;32m----> 2\u001b[1;33m \u001b[0mtsvd_product_desc\u001b[0m \u001b[1;33m=\u001b[0m \u001b[0mtsvd\u001b[0m\u001b[1;33m.\u001b[0m\u001b[0mfit_transform\u001b[0m\u001b[1;33m(\u001b[0m\u001b[0mtfidf_product_desc\u001b[0m\u001b[1;33m)\u001b[0m\u001b[1;33m\u001b[0m\u001b[0m\n\u001b[0m\u001b[0;32m      3\u001b[0m \u001b[1;32mprint\u001b[0m \u001b[0mtsvd_product_desc\u001b[0m\u001b[1;33m\u001b[0m\u001b[0m\n",
        "\u001b[1;32m/opt/anaconda/envs/np18py27-1.9/lib/python2.7/site-packages/sklearn/decomposition/truncated_svd.pyc\u001b[0m in \u001b[0;36mfit_transform\u001b[1;34m(self, X, y)\u001b[0m\n\u001b[0;32m    163\u001b[0m             \u001b[1;32mif\u001b[0m \u001b[0mk\u001b[0m \u001b[1;33m>=\u001b[0m \u001b[0mn_features\u001b[0m\u001b[1;33m:\u001b[0m\u001b[1;33m\u001b[0m\u001b[0m\n\u001b[0;32m    164\u001b[0m                 raise ValueError(\"n_components must be < n_features;\"\n\u001b[1;32m--> 165\u001b[1;33m                                  \" got %d >= %d\" % (k, n_features))\n\u001b[0m\u001b[0;32m    166\u001b[0m             U, Sigma, VT = randomized_svd(X, self.n_components,\n\u001b[0;32m    167\u001b[0m                                           \u001b[0mn_iter\u001b[0m\u001b[1;33m=\u001b[0m\u001b[0mself\u001b[0m\u001b[1;33m.\u001b[0m\u001b[0mn_iter\u001b[0m\u001b[1;33m,\u001b[0m\u001b[1;33m\u001b[0m\u001b[0m\n",
        "\u001b[1;31mValueError\u001b[0m: n_components must be < n_features; got 20 >= 12"
       ]
      }
     ],
     "prompt_number": 21
    },
    {
     "cell_type": "markdown",
     "metadata": {},
     "source": [
      "# Now see the feature generation pipeline's output integrate with RandomForest - WITHOUT pipeline"
     ]
    },
    {
     "cell_type": "code",
     "collapsed": false,
     "input": [
      "X_train_feature_engineered = feature_builder.fit_transform(X_train)\n",
      "X_test_feature_engineered = feature_builder.fit_transform(X_test)\n",
      "\n",
      "rfr.fit(X_train_feature_engineered, y_train)\n",
      "rfr.predict(X_test_feature_engineered)"
     ],
     "language": "python",
     "metadata": {},
     "outputs": [
      {
       "output_type": "stream",
       "stream": "stdout",
       "text": [
        "An unexpected error occurred while tokenizing input\n",
        "The following traceback may be corrupted or invalid\n",
        "The error message is: ('EOF in multi-line statement', (6, 0))\n",
        "An unexpected error occurred while tokenizing input\n",
        "The following traceback may be corrupted or invalid\n",
        "The error message is: ('EOF in multi-line statement', (6, 0))\n",
        "An unexpected error occurred while tokenizing input\n",
        "The following traceback may be corrupted or invalid\n",
        "The error message is: ('EOF in multi-line statement', (6, 0))\n",
        "An unexpected error occurred while tokenizing input\n",
        "The following traceback may be corrupted or invalid\n",
        "The error message is: ('EOF in multi-line statement', (6, 0))\n",
        "\n",
        "\n",
        "\n",
        "\n"
       ]
      },
      {
       "ename": "JoblibValueError",
       "evalue": "JoblibValueError\n___________________________________________________________________________\nMultiprocessing exception:\n    ...........................................................................\n/user_home/w_howardx/<string> in <module>()\n----> 1 \n      2 \n      3 \n      4 \n      5 \n      6 \n      7 \n      8 \n      9 \n     10 \n\n...........................................................................\n/opt/anaconda/envs/np18py27-1.9/lib/python2.7/site-packages/IPython/kernel/zmq/kernelapp.py in main()\n    464 \n    465 def main():\n    466     \"\"\"Run an IPKernel as an application\"\"\"\n    467     app = IPKernelApp.instance()\n    468     app.initialize()\n--> 469     app.start()\n        app.start = <bound method IPKernelApp.start of <IPython.kernel.zmq.kernelapp.IPKernelApp object>>\n    470 \n    471 \n    472 if __name__ == '__main__':\n    473     main()\n\n...........................................................................\n/opt/anaconda/envs/np18py27-1.9/lib/python2.7/site-packages/IPython/kernel/zmq/kernelapp.py in start(self=<IPython.kernel.zmq.kernelapp.IPKernelApp object>)\n    454     def start(self):\n    455         if self.poller is not None:\n    456             self.poller.start()\n    457         self.kernel.start()\n    458         try:\n--> 459             ioloop.IOLoop.instance().start()\n    460         except KeyboardInterrupt:\n    461             pass\n    462 \n    463 launch_new_instance = IPKernelApp.launch_instance\n\n...........................................................................\n/opt/anaconda/envs/np18py27-1.9/lib/python2.7/site-packages/zmq/eventloop/ioloop.py in start(self=<zmq.eventloop.ioloop.IOLoop object>)\n    341             # this IOLoop that update self._events\n    342             self._events.update(event_pairs)\n    343             while self._events:\n    344                 fd, events = self._events.popitem()\n    345                 try:\n--> 346                     self._handlers[fd](fd, events)\n        self._handlers = {79: <zmq.eventloop.stack_context._StackContextWrapper object>, <zmq.core.socket.Socket object>: <zmq.eventloop.stack_context._StackContextWrapper object>, <zmq.core.socket.Socket object>: <zmq.eventloop.stack_context._StackContextWrapper object>}\n        fd = <zmq.core.socket.Socket object>\n        events = 1\n    347                 except (OSError, IOError) as e:\n    348                     if e.args[0] == errno.EPIPE:\n    349                         # Happens when the client closes the connection\n    350                         pass\n\n...........................................................................\n/opt/anaconda/envs/np18py27-1.9/lib/python2.7/site-packages/zmq/eventloop/zmqstream.py in _handle_events(self=<zmq.eventloop.zmqstream.ZMQStream object>, fd=<zmq.core.socket.Socket object>, events=1)\n    435             # dispatch events:\n    436             if events & IOLoop.ERROR:\n    437                 logging.error(\"got POLLERR event on ZMQStream, which doesn't make sense\")\n    438                 return\n    439             if events & IOLoop.READ:\n--> 440                 self._handle_recv()\n        self._handle_recv = <bound method ZMQStream._handle_recv of <zmq.eventloop.zmqstream.ZMQStream object>>\n    441                 if not self.socket:\n    442                     return\n    443             if events & IOLoop.WRITE:\n    444                 self._handle_send()\n\n...........................................................................\n/opt/anaconda/envs/np18py27-1.9/lib/python2.7/site-packages/zmq/eventloop/zmqstream.py in _handle_recv(self=<zmq.eventloop.zmqstream.ZMQStream object>)\n    467                 logging.error(\"RECV Error: %s\"%zmq.strerror(e.errno))\n    468         else:\n    469             if self._recv_callback:\n    470                 callback = self._recv_callback\n    471                 # self._recv_callback = None\n--> 472                 self._run_callback(callback, msg)\n        self._run_callback = <bound method ZMQStream._run_callback of <zmq.eventloop.zmqstream.ZMQStream object>>\n        callback = <zmq.eventloop.stack_context._StackContextWrapper object>\n        msg = [<zmq.core.message.Frame object>, <zmq.core.message.Frame object>, <zmq.core.message.Frame object>, <zmq.core.message.Frame object>, <zmq.core.message.Frame object>, <zmq.core.message.Frame object>, <zmq.core.message.Frame object>]\n    473                 \n    474         # self.update_state()\n    475         \n    476 \n\n...........................................................................\n/opt/anaconda/envs/np18py27-1.9/lib/python2.7/site-packages/zmq/eventloop/zmqstream.py in _run_callback(self=<zmq.eventloop.zmqstream.ZMQStream object>, callback=<zmq.eventloop.stack_context._StackContextWrapper object>, *args=([<zmq.core.message.Frame object>, <zmq.core.message.Frame object>, <zmq.core.message.Frame object>, <zmq.core.message.Frame object>, <zmq.core.message.Frame object>, <zmq.core.message.Frame object>, <zmq.core.message.Frame object>],), **kwargs={})\n    409         close our socket.\"\"\"\n    410         try:\n    411             # Use a NullContext to ensure that all StackContexts are run\n    412             # inside our blanket exception handler rather than outside.\n    413             with stack_context.NullContext():\n--> 414                 callback(*args, **kwargs)\n        callback = <zmq.eventloop.stack_context._StackContextWrapper object>\n        args = ([<zmq.core.message.Frame object>, <zmq.core.message.Frame object>, <zmq.core.message.Frame object>, <zmq.core.message.Frame object>, <zmq.core.message.Frame object>, <zmq.core.message.Frame object>, <zmq.core.message.Frame object>],)\n        kwargs = {}\n    415         except:\n    416             logging.error(\"Uncaught exception, closing connection.\",\n    417                           exc_info=True)\n    418             # Close the socket on an uncaught exception from a user callback\n\n...........................................................................\n/opt/anaconda/envs/np18py27-1.9/lib/python2.7/site-packages/IPython/kernel/zmq/ipkernel.py in dispatcher(msg=[<zmq.core.message.Frame object>, <zmq.core.message.Frame object>, <zmq.core.message.Frame object>, <zmq.core.message.Frame object>, <zmq.core.message.Frame object>, <zmq.core.message.Frame object>, <zmq.core.message.Frame object>])\n    276         if self.control_stream:\n    277             self.control_stream.on_recv(self.dispatch_control, copy=False)\n    278 \n    279         def make_dispatcher(stream):\n    280             def dispatcher(msg):\n--> 281                 return self.dispatch_shell(stream, msg)\n        msg = [<zmq.core.message.Frame object>, <zmq.core.message.Frame object>, <zmq.core.message.Frame object>, <zmq.core.message.Frame object>, <zmq.core.message.Frame object>, <zmq.core.message.Frame object>, <zmq.core.message.Frame object>]\n    282             return dispatcher\n    283 \n    284         for s in self.shell_streams:\n    285             s.on_recv(make_dispatcher(s), copy=False)\n\n...........................................................................\n/opt/anaconda/envs/np18py27-1.9/lib/python2.7/site-packages/IPython/kernel/zmq/ipkernel.py in dispatch_shell(self=<IPython.kernel.zmq.ipkernel.Kernel object>, stream=<zmq.eventloop.zmqstream.ZMQStream object>, msg={'buffers': [], 'content': {u'allow_stdin': True, u'code': u'X_train_feature_engineered = feature_builder.f...y_train)\\nrfr.predict(X_test_feature_engineered)', u'silent': False, u'store_history': True, u'user_expressions': {}, u'user_variables': []}, 'header': {u'msg_id': u'F5C6FF8787224AD3BAB9C3C680129E04', u'msg_type': u'execute_request', u'session': u'392D2FEC9FC5454487497725B87206A5', u'username': u'username'}, 'metadata': {}, 'msg_id': u'F5C6FF8787224AD3BAB9C3C680129E04', 'msg_type': u'execute_request', 'parent_header': {}})\n    240             self.log.error(\"UNKNOWN MESSAGE TYPE: %r\", msg_type)\n    241         else:\n    242             # ensure default_int_handler during handler call\n    243             sig = signal(SIGINT, default_int_handler)\n    244             try:\n--> 245                 handler(stream, idents, msg)\n        handler = <bound method Kernel.execute_request of <IPython.kernel.zmq.ipkernel.Kernel object>>\n        stream = <zmq.eventloop.zmqstream.ZMQStream object>\n        idents = ['392D2FEC9FC5454487497725B87206A5']\n        msg = {'buffers': [], 'content': {u'allow_stdin': True, u'code': u'X_train_feature_engineered = feature_builder.f...y_train)\\nrfr.predict(X_test_feature_engineered)', u'silent': False, u'store_history': True, u'user_expressions': {}, u'user_variables': []}, 'header': {u'msg_id': u'F5C6FF8787224AD3BAB9C3C680129E04', u'msg_type': u'execute_request', u'session': u'392D2FEC9FC5454487497725B87206A5', u'username': u'username'}, 'metadata': {}, 'msg_id': u'F5C6FF8787224AD3BAB9C3C680129E04', 'msg_type': u'execute_request', 'parent_header': {}}\n    246             except Exception:\n    247                 self.log.error(\"Exception in message handler:\", exc_info=True)\n    248             finally:\n    249                 signal(SIGINT, sig)\n\n...........................................................................\n/opt/anaconda/envs/np18py27-1.9/lib/python2.7/site-packages/IPython/kernel/zmq/ipkernel.py in execute_request(self=<IPython.kernel.zmq.ipkernel.Kernel object>, stream=<zmq.eventloop.zmqstream.ZMQStream object>, ident=['392D2FEC9FC5454487497725B87206A5'], parent={'buffers': [], 'content': {u'allow_stdin': True, u'code': u'X_train_feature_engineered = feature_builder.f...y_train)\\nrfr.predict(X_test_feature_engineered)', u'silent': False, u'store_history': True, u'user_expressions': {}, u'user_variables': []}, 'header': {u'msg_id': u'F5C6FF8787224AD3BAB9C3C680129E04', u'msg_type': u'execute_request', u'session': u'392D2FEC9FC5454487497725B87206A5', u'username': u'username'}, 'metadata': {}, 'msg_id': u'F5C6FF8787224AD3BAB9C3C680129E04', 'msg_type': u'execute_request', 'parent_header': {}})\n    384 \n    385         reply_content = {}\n    386         # FIXME: the shell calls the exception handler itself.\n    387         shell._reply_content = None\n    388         try:\n--> 389             shell.run_cell(code, store_history=store_history, silent=silent)\n        shell.run_cell = <bound method ZMQInteractiveShell.run_cell of <I....kernel.zmq.zmqshell.ZMQInteractiveShell object>>\n        code = u'X_train_feature_engineered = feature_builder.f...y_train)\\nrfr.predict(X_test_feature_engineered)'\n        store_history = True\n        silent = False\n    390         except:\n    391             status = u'error'\n    392             # FIXME: this code right now isn't being used yet by default,\n    393             # because the run_cell() call above directly fires off exception\n\n...........................................................................\n/opt/anaconda/envs/np18py27-1.9/lib/python2.7/site-packages/IPython/core/interactiveshell.py in run_cell(self=<IPython.kernel.zmq.zmqshell.ZMQInteractiveShell object>, raw_cell=u'X_train_feature_engineered = feature_builder.f...y_train)\\nrfr.predict(X_test_feature_engineered)', store_history=True, silent=False, shell_futures=True)\n   2736                 code_ast = self.transform_ast(code_ast)\n   2737 \n   2738                 # Execute the user code\n   2739                 interactivity = \"none\" if silent else self.ast_node_interactivity\n   2740                 self.run_ast_nodes(code_ast.body, cell_name,\n-> 2741                                    interactivity=interactivity, compiler=compiler)\n        interactivity = 'last_expr'\n        compiler = <IPython.core.compilerop.CachingCompiler instance>\n   2742                 \n   2743                 self.events.trigger('post_execute')\n   2744                 if not silent:\n   2745                     self.events.trigger('post_run_cell')\n\n...........................................................................\n/opt/anaconda/envs/np18py27-1.9/lib/python2.7/site-packages/IPython/core/interactiveshell.py in run_ast_nodes(self=<IPython.kernel.zmq.zmqshell.ZMQInteractiveShell object>, nodelist=[<_ast.Assign object>, <_ast.Assign object>, <_ast.Expr object>, <_ast.Expr object>], cell_name='<ipython-input-22-ee9e79ddf7c1>', interactivity='last', compiler=<IPython.core.compilerop.CachingCompiler instance>)\n   2822 \n   2823         try:\n   2824             for i, node in enumerate(to_run_exec):\n   2825                 mod = ast.Module([node])\n   2826                 code = compiler(mod, cell_name, \"exec\")\n-> 2827                 if self.run_code(code):\n        self.run_code = <bound method ZMQInteractiveShell.run_code of <I....kernel.zmq.zmqshell.ZMQInteractiveShell object>>\n        code = <code object <module> at 0x7f7f5665b9b0, file \"<ipython-input-22-ee9e79ddf7c1>\", line 1>\n   2828                     return True\n   2829 \n   2830             for i, node in enumerate(to_run_interactive):\n   2831                 mod = ast.Interactive([node])\n\n...........................................................................\n/opt/anaconda/envs/np18py27-1.9/lib/python2.7/site-packages/IPython/core/interactiveshell.py in run_code(self=<IPython.kernel.zmq.zmqshell.ZMQInteractiveShell object>, code_obj=<code object <module> at 0x7f7f5665b9b0, file \"<ipython-input-22-ee9e79ddf7c1>\", line 1>)\n   2878         outflag = 1  # happens in more places, so it's easier as default\n   2879         try:\n   2880             try:\n   2881                 self.hooks.pre_run_code_hook()\n   2882                 #rprint('Running code', repr(code_obj)) # dbg\n-> 2883                 exec(code_obj, self.user_global_ns, self.user_ns)\n        code_obj = <code object <module> at 0x7f7f5665b9b0, file \"<ipython-input-22-ee9e79ddf7c1>\", line 1>\n        self.user_global_ns = {'ALLOW_THREADS': 1, 'Annotation': <class 'matplotlib.text.Annotation'>, 'Arrow': <class 'matplotlib.patches.Arrow'>, 'Artist': <class 'matplotlib.artist.Artist'>, 'AutoLocator': <class 'matplotlib.ticker.AutoLocator'>, 'Axes': <class 'matplotlib.axes._axes.Axes'>, 'BUFSIZE': 8192, 'BaseEstimator': <class 'sklearn.base.BaseEstimator'>, 'Button': <class 'matplotlib.widgets.Button'>, 'CLIP': 0, ...}\n        self.user_ns = {'ALLOW_THREADS': 1, 'Annotation': <class 'matplotlib.text.Annotation'>, 'Arrow': <class 'matplotlib.patches.Arrow'>, 'Artist': <class 'matplotlib.artist.Artist'>, 'AutoLocator': <class 'matplotlib.ticker.AutoLocator'>, 'Axes': <class 'matplotlib.axes._axes.Axes'>, 'BUFSIZE': 8192, 'BaseEstimator': <class 'sklearn.base.BaseEstimator'>, 'Button': <class 'matplotlib.widgets.Button'>, 'CLIP': 0, ...}\n   2884             finally:\n   2885                 # Reset our crash handler in place\n   2886                 sys.excepthook = old_excepthook\n   2887         except SystemExit:\n\n...........................................................................\n/user_home/w_howardx/<ipython-input-22-ee9e79ddf7c1> in <module>()\n----> 1 \n      2 \n      3 \n      4 \n      5 \n      6 X_train_feature_engineered = feature_builder.fit_transform(X_train)\n      7 X_test_feature_engineered = feature_builder.fit_transform(X_test)\n      8 \n      9 rfr.fit(X_train_feature_engineered, y_train)\n     10 rfr.predict(X_test_feature_engineered)\n\n...........................................................................\n/opt/anaconda/envs/np18py27-1.9/lib/python2.7/site-packages/sklearn/pipeline.py in fit_transform(self=Pipeline(steps=[('union', FeatureUnion(n_jobs=-1...1.0, 'txt1': 0.5, 'txt2': 0.25, 'txt3': 0.05}))]), X=          attr           brand  customer rating ...t fusion pro-glide        1.0             razor  , y=None, **fit_params={})\n    156             Training targets. Must fulfill label requirements for all steps of\n    157             the pipeline.\n    158         \"\"\"\n    159         Xt, fit_params = self._pre_transform(X, y, **fit_params)\n    160         if hasattr(self.steps[-1][-1], 'fit_transform'):\n--> 161             return self.steps[-1][-1].fit_transform(Xt, y, **fit_params)\n        self.steps.fit_transform = undefined\n        Xt =           attr           brand  customer rating ...t fusion pro-glide        1.0             razor  \n        y = None\n        fit_params = {}\n    162         else:\n    163             return self.steps[-1][-1].fit(Xt, y, **fit_params).transform(Xt)\n    164 \n    165     @if_delegate_has_method(delegate='_final_estimator')\n\n...........................................................................\n/opt/anaconda/envs/np18py27-1.9/lib/python2.7/site-packages/sklearn/pipeline.py in fit_transform(self=FeatureUnion(n_jobs=-1,\n       transformer_list=...': 1.0, 'txt1': 0.5, 'txt2': 0.25, 'txt3': 0.05}), X=          attr           brand  customer rating ...t fusion pro-glide        1.0             razor  , y=None, **fit_params={})\n    444             sum of n_components (output dimension) over transformers.\n    445         \"\"\"\n    446         result = Parallel(n_jobs=self.n_jobs)(\n    447             delayed(_fit_transform_one)(trans, name, X, y,\n    448                                         self.transformer_weights, **fit_params)\n--> 449             for name, trans in self.transformer_list)\n        self.transformer_list = [('cst', cust_regression_vals()), ('txt1', Pipeline(steps=[('s1', cust_txt_col(key='search_..., n_iter=5,\n       random_state=2016, tol=0.0))])), ('txt2', Pipeline(steps=[('s2', cust_txt_col(key='product..., n_iter=5,\n       random_state=2016, tol=0.0))])), ('txt3', Pipeline(steps=[('s3', cust_txt_col(key='product..., n_iter=5,\n       random_state=2016, tol=0.0))])), ('txt4', Pipeline(steps=[('s4', cust_txt_col(key='brand')..., n_iter=5,\n       random_state=2016, tol=0.0))]))]\n    450 \n    451         Xs, transformers = zip(*result)\n    452         self._update_transformer_list(transformers)\n    453         if any(sparse.issparse(f) for f in Xs):\n\n...........................................................................\n/opt/anaconda/envs/np18py27-1.9/lib/python2.7/site-packages/sklearn/externals/joblib/parallel.py in __call__(self=Parallel(n_jobs=-1), iterable=<generator object <genexpr>>)\n    661             if pre_dispatch == \"all\" or n_jobs == 1:\n    662                 # The iterable was consumed all at once by the above for loop.\n    663                 # No need to wait for async callbacks to trigger to\n    664                 # consumption.\n    665                 self._iterating = False\n--> 666             self.retrieve()\n        self.retrieve = <bound method Parallel.retrieve of Parallel(n_jobs=-1)>\n    667             # Make sure that we get a last message telling us we are done\n    668             elapsed_time = time.time() - self._start_time\n    669             self._print('Done %3i out of %3i | elapsed: %s finished',\n    670                         (len(self._output),\n\n    ---------------------------------------------------------------------------\n    Sub-process traceback:\n    ---------------------------------------------------------------------------\n    ValueError                                         Sun Apr 17 19:45:10 2016\nPID: 691          Python 2.7.10: /opt/anaconda/envs/np18py27-1.9/bin/python\n...........................................................................\n/opt/anaconda/envs/np18py27-1.9/lib/python2.7/site-packages/sklearn/pipeline.pyc in _fit_transform_one(transformer=Pipeline(steps=[('s1', cust_txt_col(key='search_..., n_iter=5,\n       random_state=2016, tol=0.0))]), name='txt1', X=          attr           brand  customer rating ...t fusion pro-glide        1.0             razor  , y=None, transformer_weights={'cst': 1.0, 'txt1': 0.5, 'txt2': 0.25, 'txt3': 0.05, 'txt4': 0.5}, **fit_params={})\n    356 def _fit_transform_one(transformer, name, X, y, transformer_weights,\n    357                        **fit_params):\n    358     if transformer_weights is not None and name in transformer_weights:\n    359         # if we have a weight for this transformer, muliply output\n    360         if hasattr(transformer, 'fit_transform'):\n--> 361             X_transformed = transformer.fit_transform(X, y, **fit_params)\n    362             return X_transformed * transformer_weights[name], transformer\n    363         else:\n    364             X_transformed = transformer.fit(X, y, **fit_params).transform(X)\n    365             return X_transformed * transformer_weights[name], transformer\n\n...........................................................................\n/opt/anaconda/envs/np18py27-1.9/lib/python2.7/site-packages/sklearn/pipeline.pyc in fit_transform(self=Pipeline(steps=[('s1', cust_txt_col(key='search_..., n_iter=5,\n       random_state=2016, tol=0.0))]), X=          attr           brand  customer rating ...t fusion pro-glide        1.0             razor  , y=None, **fit_params={})\n    156             Training targets. Must fulfill label requirements for all steps of\n    157             the pipeline.\n    158         \"\"\"\n    159         Xt, fit_params = self._pre_transform(X, y, **fit_params)\n    160         if hasattr(self.steps[-1][-1], 'fit_transform'):\n--> 161             return self.steps[-1][-1].fit_transform(Xt, y, **fit_params)\n    162         else:\n    163             return self.steps[-1][-1].fit(Xt, y, **fit_params).transform(Xt)\n    164 \n    165     @if_delegate_has_method(delegate='_final_estimator')\n\n...........................................................................\n/opt/anaconda/envs/np18py27-1.9/lib/python2.7/site-packages/sklearn/decomposition/truncated_svd.pyc in fit_transform(self=TruncatedSVD(algorithm='randomized', n_components=20, n_iter=5,\n       random_state=2016, tol=0.0), X=<4x6 sparse matrix of type '<type 'numpy.float64... stored elements in Compressed Sparse Row format>, y=None)\n    160         elif self.algorithm == \"randomized\":\n    161             k = self.n_components\n    162             n_features = X.shape[1]\n    163             if k >= n_features:\n    164                 raise ValueError(\"n_components must be < n_features;\"\n--> 165                                  \" got %d >= %d\" % (k, n_features))\n    166             U, Sigma, VT = randomized_svd(X, self.n_components,\n    167                                           n_iter=self.n_iter,\n    168                                           random_state=random_state)\n    169         else:\n\nValueError: n_components must be < n_features; got 20 >= 6\n___________________________________________________________________________",
       "output_type": "pyerr",
       "traceback": [
        "\u001b[1;31m---------------------------------------------------------------------------\u001b[0m\n\u001b[1;31mJoblibValueError\u001b[0m                          Traceback (most recent call last)",
        "\u001b[1;32m<ipython-input-22-ee9e79ddf7c1>\u001b[0m in \u001b[0;36m<module>\u001b[1;34m()\u001b[0m\n\u001b[1;32m----> 1\u001b[1;33m \u001b[0mX_train_feature_engineered\u001b[0m \u001b[1;33m=\u001b[0m \u001b[0mfeature_builder\u001b[0m\u001b[1;33m.\u001b[0m\u001b[0mfit_transform\u001b[0m\u001b[1;33m(\u001b[0m\u001b[0mX_train\u001b[0m\u001b[1;33m)\u001b[0m\u001b[1;33m\u001b[0m\u001b[0m\n\u001b[0m\u001b[0;32m      2\u001b[0m \u001b[0mX_test_feature_engineered\u001b[0m \u001b[1;33m=\u001b[0m \u001b[0mfeature_builder\u001b[0m\u001b[1;33m.\u001b[0m\u001b[0mfit_transform\u001b[0m\u001b[1;33m(\u001b[0m\u001b[0mX_test\u001b[0m\u001b[1;33m)\u001b[0m\u001b[1;33m\u001b[0m\u001b[0m\n\u001b[0;32m      3\u001b[0m \u001b[1;33m\u001b[0m\u001b[0m\n\u001b[0;32m      4\u001b[0m \u001b[0mrfr\u001b[0m\u001b[1;33m.\u001b[0m\u001b[0mfit\u001b[0m\u001b[1;33m(\u001b[0m\u001b[0mX_train_feature_engineered\u001b[0m\u001b[1;33m,\u001b[0m \u001b[0my_train\u001b[0m\u001b[1;33m)\u001b[0m\u001b[1;33m\u001b[0m\u001b[0m\n\u001b[0;32m      5\u001b[0m \u001b[0mrfr\u001b[0m\u001b[1;33m.\u001b[0m\u001b[0mpredict\u001b[0m\u001b[1;33m(\u001b[0m\u001b[0mX_test_feature_engineered\u001b[0m\u001b[1;33m)\u001b[0m\u001b[1;33m\u001b[0m\u001b[0m\n",
        "\u001b[1;32m/opt/anaconda/envs/np18py27-1.9/lib/python2.7/site-packages/sklearn/pipeline.pyc\u001b[0m in \u001b[0;36mfit_transform\u001b[1;34m(self, X, y, **fit_params)\u001b[0m\n\u001b[0;32m    159\u001b[0m         \u001b[0mXt\u001b[0m\u001b[1;33m,\u001b[0m \u001b[0mfit_params\u001b[0m \u001b[1;33m=\u001b[0m \u001b[0mself\u001b[0m\u001b[1;33m.\u001b[0m\u001b[0m_pre_transform\u001b[0m\u001b[1;33m(\u001b[0m\u001b[0mX\u001b[0m\u001b[1;33m,\u001b[0m \u001b[0my\u001b[0m\u001b[1;33m,\u001b[0m \u001b[1;33m**\u001b[0m\u001b[0mfit_params\u001b[0m\u001b[1;33m)\u001b[0m\u001b[1;33m\u001b[0m\u001b[0m\n\u001b[0;32m    160\u001b[0m         \u001b[1;32mif\u001b[0m \u001b[0mhasattr\u001b[0m\u001b[1;33m(\u001b[0m\u001b[0mself\u001b[0m\u001b[1;33m.\u001b[0m\u001b[0msteps\u001b[0m\u001b[1;33m[\u001b[0m\u001b[1;33m-\u001b[0m\u001b[1;36m1\u001b[0m\u001b[1;33m]\u001b[0m\u001b[1;33m[\u001b[0m\u001b[1;33m-\u001b[0m\u001b[1;36m1\u001b[0m\u001b[1;33m]\u001b[0m\u001b[1;33m,\u001b[0m \u001b[1;34m'fit_transform'\u001b[0m\u001b[1;33m)\u001b[0m\u001b[1;33m:\u001b[0m\u001b[1;33m\u001b[0m\u001b[0m\n\u001b[1;32m--> 161\u001b[1;33m             \u001b[1;32mreturn\u001b[0m \u001b[0mself\u001b[0m\u001b[1;33m.\u001b[0m\u001b[0msteps\u001b[0m\u001b[1;33m[\u001b[0m\u001b[1;33m-\u001b[0m\u001b[1;36m1\u001b[0m\u001b[1;33m]\u001b[0m\u001b[1;33m[\u001b[0m\u001b[1;33m-\u001b[0m\u001b[1;36m1\u001b[0m\u001b[1;33m]\u001b[0m\u001b[1;33m.\u001b[0m\u001b[0mfit_transform\u001b[0m\u001b[1;33m(\u001b[0m\u001b[0mXt\u001b[0m\u001b[1;33m,\u001b[0m \u001b[0my\u001b[0m\u001b[1;33m,\u001b[0m \u001b[1;33m**\u001b[0m\u001b[0mfit_params\u001b[0m\u001b[1;33m)\u001b[0m\u001b[1;33m\u001b[0m\u001b[0m\n\u001b[0m\u001b[0;32m    162\u001b[0m         \u001b[1;32melse\u001b[0m\u001b[1;33m:\u001b[0m\u001b[1;33m\u001b[0m\u001b[0m\n\u001b[0;32m    163\u001b[0m             \u001b[1;32mreturn\u001b[0m \u001b[0mself\u001b[0m\u001b[1;33m.\u001b[0m\u001b[0msteps\u001b[0m\u001b[1;33m[\u001b[0m\u001b[1;33m-\u001b[0m\u001b[1;36m1\u001b[0m\u001b[1;33m]\u001b[0m\u001b[1;33m[\u001b[0m\u001b[1;33m-\u001b[0m\u001b[1;36m1\u001b[0m\u001b[1;33m]\u001b[0m\u001b[1;33m.\u001b[0m\u001b[0mfit\u001b[0m\u001b[1;33m(\u001b[0m\u001b[0mXt\u001b[0m\u001b[1;33m,\u001b[0m \u001b[0my\u001b[0m\u001b[1;33m,\u001b[0m \u001b[1;33m**\u001b[0m\u001b[0mfit_params\u001b[0m\u001b[1;33m)\u001b[0m\u001b[1;33m.\u001b[0m\u001b[0mtransform\u001b[0m\u001b[1;33m(\u001b[0m\u001b[0mXt\u001b[0m\u001b[1;33m)\u001b[0m\u001b[1;33m\u001b[0m\u001b[0m\n",
        "\u001b[1;32m/opt/anaconda/envs/np18py27-1.9/lib/python2.7/site-packages/sklearn/pipeline.pyc\u001b[0m in \u001b[0;36mfit_transform\u001b[1;34m(self, X, y, **fit_params)\u001b[0m\n\u001b[0;32m    447\u001b[0m             delayed(_fit_transform_one)(trans, name, X, y,\n\u001b[0;32m    448\u001b[0m                                         self.transformer_weights, **fit_params)\n\u001b[1;32m--> 449\u001b[1;33m             for name, trans in self.transformer_list)\n\u001b[0m\u001b[0;32m    450\u001b[0m \u001b[1;33m\u001b[0m\u001b[0m\n\u001b[0;32m    451\u001b[0m         \u001b[0mXs\u001b[0m\u001b[1;33m,\u001b[0m \u001b[0mtransformers\u001b[0m \u001b[1;33m=\u001b[0m \u001b[0mzip\u001b[0m\u001b[1;33m(\u001b[0m\u001b[1;33m*\u001b[0m\u001b[0mresult\u001b[0m\u001b[1;33m)\u001b[0m\u001b[1;33m\u001b[0m\u001b[0m\n",
        "\u001b[1;32m/opt/anaconda/envs/np18py27-1.9/lib/python2.7/site-packages/sklearn/externals/joblib/parallel.pyc\u001b[0m in \u001b[0;36m__call__\u001b[1;34m(self, iterable)\u001b[0m\n\u001b[0;32m    664\u001b[0m                 \u001b[1;31m# consumption.\u001b[0m\u001b[1;33m\u001b[0m\u001b[1;33m\u001b[0m\u001b[0m\n\u001b[0;32m    665\u001b[0m                 \u001b[0mself\u001b[0m\u001b[1;33m.\u001b[0m\u001b[0m_iterating\u001b[0m \u001b[1;33m=\u001b[0m \u001b[0mFalse\u001b[0m\u001b[1;33m\u001b[0m\u001b[0m\n\u001b[1;32m--> 666\u001b[1;33m             \u001b[0mself\u001b[0m\u001b[1;33m.\u001b[0m\u001b[0mretrieve\u001b[0m\u001b[1;33m(\u001b[0m\u001b[1;33m)\u001b[0m\u001b[1;33m\u001b[0m\u001b[0m\n\u001b[0m\u001b[0;32m    667\u001b[0m             \u001b[1;31m# Make sure that we get a last message telling us we are done\u001b[0m\u001b[1;33m\u001b[0m\u001b[1;33m\u001b[0m\u001b[0m\n\u001b[0;32m    668\u001b[0m             \u001b[0melapsed_time\u001b[0m \u001b[1;33m=\u001b[0m \u001b[0mtime\u001b[0m\u001b[1;33m.\u001b[0m\u001b[0mtime\u001b[0m\u001b[1;33m(\u001b[0m\u001b[1;33m)\u001b[0m \u001b[1;33m-\u001b[0m \u001b[0mself\u001b[0m\u001b[1;33m.\u001b[0m\u001b[0m_start_time\u001b[0m\u001b[1;33m\u001b[0m\u001b[0m\n",
        "\u001b[1;32m/opt/anaconda/envs/np18py27-1.9/lib/python2.7/site-packages/sklearn/externals/joblib/parallel.pyc\u001b[0m in \u001b[0;36mretrieve\u001b[1;34m(self)\u001b[0m\n\u001b[0;32m    547\u001b[0m                         \u001b[1;31m# Convert this to a JoblibException\u001b[0m\u001b[1;33m\u001b[0m\u001b[1;33m\u001b[0m\u001b[0m\n\u001b[0;32m    548\u001b[0m                         \u001b[0mexception_type\u001b[0m \u001b[1;33m=\u001b[0m \u001b[0m_mk_exception\u001b[0m\u001b[1;33m(\u001b[0m\u001b[0mexception\u001b[0m\u001b[1;33m.\u001b[0m\u001b[0metype\u001b[0m\u001b[1;33m)\u001b[0m\u001b[1;33m[\u001b[0m\u001b[1;36m0\u001b[0m\u001b[1;33m]\u001b[0m\u001b[1;33m\u001b[0m\u001b[0m\n\u001b[1;32m--> 549\u001b[1;33m                         \u001b[1;32mraise\u001b[0m \u001b[0mexception_type\u001b[0m\u001b[1;33m(\u001b[0m\u001b[0mreport\u001b[0m\u001b[1;33m)\u001b[0m\u001b[1;33m\u001b[0m\u001b[0m\n\u001b[0m\u001b[0;32m    550\u001b[0m                     \u001b[1;32mraise\u001b[0m \u001b[0mexception\u001b[0m\u001b[1;33m\u001b[0m\u001b[0m\n\u001b[0;32m    551\u001b[0m                 \u001b[1;32mfinally\u001b[0m\u001b[1;33m:\u001b[0m\u001b[1;33m\u001b[0m\u001b[0m\n",
        "\u001b[1;31mJoblibValueError\u001b[0m: JoblibValueError\n___________________________________________________________________________\nMultiprocessing exception:\n    ...........................................................................\n/user_home/w_howardx/<string> in <module>()\n----> 1 \n      2 \n      3 \n      4 \n      5 \n      6 \n      7 \n      8 \n      9 \n     10 \n\n...........................................................................\n/opt/anaconda/envs/np18py27-1.9/lib/python2.7/site-packages/IPython/kernel/zmq/kernelapp.py in main()\n    464 \n    465 def main():\n    466     \"\"\"Run an IPKernel as an application\"\"\"\n    467     app = IPKernelApp.instance()\n    468     app.initialize()\n--> 469     app.start()\n        app.start = <bound method IPKernelApp.start of <IPython.kernel.zmq.kernelapp.IPKernelApp object>>\n    470 \n    471 \n    472 if __name__ == '__main__':\n    473     main()\n\n...........................................................................\n/opt/anaconda/envs/np18py27-1.9/lib/python2.7/site-packages/IPython/kernel/zmq/kernelapp.py in start(self=<IPython.kernel.zmq.kernelapp.IPKernelApp object>)\n    454     def start(self):\n    455         if self.poller is not None:\n    456             self.poller.start()\n    457         self.kernel.start()\n    458         try:\n--> 459             ioloop.IOLoop.instance().start()\n    460         except KeyboardInterrupt:\n    461             pass\n    462 \n    463 launch_new_instance = IPKernelApp.launch_instance\n\n...........................................................................\n/opt/anaconda/envs/np18py27-1.9/lib/python2.7/site-packages/zmq/eventloop/ioloop.py in start(self=<zmq.eventloop.ioloop.IOLoop object>)\n    341             # this IOLoop that update self._events\n    342             self._events.update(event_pairs)\n    343             while self._events:\n    344                 fd, events = self._events.popitem()\n    345                 try:\n--> 346                     self._handlers[fd](fd, events)\n        self._handlers = {79: <zmq.eventloop.stack_context._StackContextWrapper object>, <zmq.core.socket.Socket object>: <zmq.eventloop.stack_context._StackContextWrapper object>, <zmq.core.socket.Socket object>: <zmq.eventloop.stack_context._StackContextWrapper object>}\n        fd = <zmq.core.socket.Socket object>\n        events = 1\n    347                 except (OSError, IOError) as e:\n    348                     if e.args[0] == errno.EPIPE:\n    349                         # Happens when the client closes the connection\n    350                         pass\n\n...........................................................................\n/opt/anaconda/envs/np18py27-1.9/lib/python2.7/site-packages/zmq/eventloop/zmqstream.py in _handle_events(self=<zmq.eventloop.zmqstream.ZMQStream object>, fd=<zmq.core.socket.Socket object>, events=1)\n    435             # dispatch events:\n    436             if events & IOLoop.ERROR:\n    437                 logging.error(\"got POLLERR event on ZMQStream, which doesn't make sense\")\n    438                 return\n    439             if events & IOLoop.READ:\n--> 440                 self._handle_recv()\n        self._handle_recv = <bound method ZMQStream._handle_recv of <zmq.eventloop.zmqstream.ZMQStream object>>\n    441                 if not self.socket:\n    442                     return\n    443             if events & IOLoop.WRITE:\n    444                 self._handle_send()\n\n...........................................................................\n/opt/anaconda/envs/np18py27-1.9/lib/python2.7/site-packages/zmq/eventloop/zmqstream.py in _handle_recv(self=<zmq.eventloop.zmqstream.ZMQStream object>)\n    467                 logging.error(\"RECV Error: %s\"%zmq.strerror(e.errno))\n    468         else:\n    469             if self._recv_callback:\n    470                 callback = self._recv_callback\n    471                 # self._recv_callback = None\n--> 472                 self._run_callback(callback, msg)\n        self._run_callback = <bound method ZMQStream._run_callback of <zmq.eventloop.zmqstream.ZMQStream object>>\n        callback = <zmq.eventloop.stack_context._StackContextWrapper object>\n        msg = [<zmq.core.message.Frame object>, <zmq.core.message.Frame object>, <zmq.core.message.Frame object>, <zmq.core.message.Frame object>, <zmq.core.message.Frame object>, <zmq.core.message.Frame object>, <zmq.core.message.Frame object>]\n    473                 \n    474         # self.update_state()\n    475         \n    476 \n\n...........................................................................\n/opt/anaconda/envs/np18py27-1.9/lib/python2.7/site-packages/zmq/eventloop/zmqstream.py in _run_callback(self=<zmq.eventloop.zmqstream.ZMQStream object>, callback=<zmq.eventloop.stack_context._StackContextWrapper object>, *args=([<zmq.core.message.Frame object>, <zmq.core.message.Frame object>, <zmq.core.message.Frame object>, <zmq.core.message.Frame object>, <zmq.core.message.Frame object>, <zmq.core.message.Frame object>, <zmq.core.message.Frame object>],), **kwargs={})\n    409         close our socket.\"\"\"\n    410         try:\n    411             # Use a NullContext to ensure that all StackContexts are run\n    412             # inside our blanket exception handler rather than outside.\n    413             with stack_context.NullContext():\n--> 414                 callback(*args, **kwargs)\n        callback = <zmq.eventloop.stack_context._StackContextWrapper object>\n        args = ([<zmq.core.message.Frame object>, <zmq.core.message.Frame object>, <zmq.core.message.Frame object>, <zmq.core.message.Frame object>, <zmq.core.message.Frame object>, <zmq.core.message.Frame object>, <zmq.core.message.Frame object>],)\n        kwargs = {}\n    415         except:\n    416             logging.error(\"Uncaught exception, closing connection.\",\n    417                           exc_info=True)\n    418             # Close the socket on an uncaught exception from a user callback\n\n...........................................................................\n/opt/anaconda/envs/np18py27-1.9/lib/python2.7/site-packages/IPython/kernel/zmq/ipkernel.py in dispatcher(msg=[<zmq.core.message.Frame object>, <zmq.core.message.Frame object>, <zmq.core.message.Frame object>, <zmq.core.message.Frame object>, <zmq.core.message.Frame object>, <zmq.core.message.Frame object>, <zmq.core.message.Frame object>])\n    276         if self.control_stream:\n    277             self.control_stream.on_recv(self.dispatch_control, copy=False)\n    278 \n    279         def make_dispatcher(stream):\n    280             def dispatcher(msg):\n--> 281                 return self.dispatch_shell(stream, msg)\n        msg = [<zmq.core.message.Frame object>, <zmq.core.message.Frame object>, <zmq.core.message.Frame object>, <zmq.core.message.Frame object>, <zmq.core.message.Frame object>, <zmq.core.message.Frame object>, <zmq.core.message.Frame object>]\n    282             return dispatcher\n    283 \n    284         for s in self.shell_streams:\n    285             s.on_recv(make_dispatcher(s), copy=False)\n\n...........................................................................\n/opt/anaconda/envs/np18py27-1.9/lib/python2.7/site-packages/IPython/kernel/zmq/ipkernel.py in dispatch_shell(self=<IPython.kernel.zmq.ipkernel.Kernel object>, stream=<zmq.eventloop.zmqstream.ZMQStream object>, msg={'buffers': [], 'content': {u'allow_stdin': True, u'code': u'X_train_feature_engineered = feature_builder.f...y_train)\\nrfr.predict(X_test_feature_engineered)', u'silent': False, u'store_history': True, u'user_expressions': {}, u'user_variables': []}, 'header': {u'msg_id': u'F5C6FF8787224AD3BAB9C3C680129E04', u'msg_type': u'execute_request', u'session': u'392D2FEC9FC5454487497725B87206A5', u'username': u'username'}, 'metadata': {}, 'msg_id': u'F5C6FF8787224AD3BAB9C3C680129E04', 'msg_type': u'execute_request', 'parent_header': {}})\n    240             self.log.error(\"UNKNOWN MESSAGE TYPE: %r\", msg_type)\n    241         else:\n    242             # ensure default_int_handler during handler call\n    243             sig = signal(SIGINT, default_int_handler)\n    244             try:\n--> 245                 handler(stream, idents, msg)\n        handler = <bound method Kernel.execute_request of <IPython.kernel.zmq.ipkernel.Kernel object>>\n        stream = <zmq.eventloop.zmqstream.ZMQStream object>\n        idents = ['392D2FEC9FC5454487497725B87206A5']\n        msg = {'buffers': [], 'content': {u'allow_stdin': True, u'code': u'X_train_feature_engineered = feature_builder.f...y_train)\\nrfr.predict(X_test_feature_engineered)', u'silent': False, u'store_history': True, u'user_expressions': {}, u'user_variables': []}, 'header': {u'msg_id': u'F5C6FF8787224AD3BAB9C3C680129E04', u'msg_type': u'execute_request', u'session': u'392D2FEC9FC5454487497725B87206A5', u'username': u'username'}, 'metadata': {}, 'msg_id': u'F5C6FF8787224AD3BAB9C3C680129E04', 'msg_type': u'execute_request', 'parent_header': {}}\n    246             except Exception:\n    247                 self.log.error(\"Exception in message handler:\", exc_info=True)\n    248             finally:\n    249                 signal(SIGINT, sig)\n\n...........................................................................\n/opt/anaconda/envs/np18py27-1.9/lib/python2.7/site-packages/IPython/kernel/zmq/ipkernel.py in execute_request(self=<IPython.kernel.zmq.ipkernel.Kernel object>, stream=<zmq.eventloop.zmqstream.ZMQStream object>, ident=['392D2FEC9FC5454487497725B87206A5'], parent={'buffers': [], 'content': {u'allow_stdin': True, u'code': u'X_train_feature_engineered = feature_builder.f...y_train)\\nrfr.predict(X_test_feature_engineered)', u'silent': False, u'store_history': True, u'user_expressions': {}, u'user_variables': []}, 'header': {u'msg_id': u'F5C6FF8787224AD3BAB9C3C680129E04', u'msg_type': u'execute_request', u'session': u'392D2FEC9FC5454487497725B87206A5', u'username': u'username'}, 'metadata': {}, 'msg_id': u'F5C6FF8787224AD3BAB9C3C680129E04', 'msg_type': u'execute_request', 'parent_header': {}})\n    384 \n    385         reply_content = {}\n    386         # FIXME: the shell calls the exception handler itself.\n    387         shell._reply_content = None\n    388         try:\n--> 389             shell.run_cell(code, store_history=store_history, silent=silent)\n        shell.run_cell = <bound method ZMQInteractiveShell.run_cell of <I....kernel.zmq.zmqshell.ZMQInteractiveShell object>>\n        code = u'X_train_feature_engineered = feature_builder.f...y_train)\\nrfr.predict(X_test_feature_engineered)'\n        store_history = True\n        silent = False\n    390         except:\n    391             status = u'error'\n    392             # FIXME: this code right now isn't being used yet by default,\n    393             # because the run_cell() call above directly fires off exception\n\n...........................................................................\n/opt/anaconda/envs/np18py27-1.9/lib/python2.7/site-packages/IPython/core/interactiveshell.py in run_cell(self=<IPython.kernel.zmq.zmqshell.ZMQInteractiveShell object>, raw_cell=u'X_train_feature_engineered = feature_builder.f...y_train)\\nrfr.predict(X_test_feature_engineered)', store_history=True, silent=False, shell_futures=True)\n   2736                 code_ast = self.transform_ast(code_ast)\n   2737 \n   2738                 # Execute the user code\n   2739                 interactivity = \"none\" if silent else self.ast_node_interactivity\n   2740                 self.run_ast_nodes(code_ast.body, cell_name,\n-> 2741                                    interactivity=interactivity, compiler=compiler)\n        interactivity = 'last_expr'\n        compiler = <IPython.core.compilerop.CachingCompiler instance>\n   2742                 \n   2743                 self.events.trigger('post_execute')\n   2744                 if not silent:\n   2745                     self.events.trigger('post_run_cell')\n\n...........................................................................\n/opt/anaconda/envs/np18py27-1.9/lib/python2.7/site-packages/IPython/core/interactiveshell.py in run_ast_nodes(self=<IPython.kernel.zmq.zmqshell.ZMQInteractiveShell object>, nodelist=[<_ast.Assign object>, <_ast.Assign object>, <_ast.Expr object>, <_ast.Expr object>], cell_name='<ipython-input-22-ee9e79ddf7c1>', interactivity='last', compiler=<IPython.core.compilerop.CachingCompiler instance>)\n   2822 \n   2823         try:\n   2824             for i, node in enumerate(to_run_exec):\n   2825                 mod = ast.Module([node])\n   2826                 code = compiler(mod, cell_name, \"exec\")\n-> 2827                 if self.run_code(code):\n        self.run_code = <bound method ZMQInteractiveShell.run_code of <I....kernel.zmq.zmqshell.ZMQInteractiveShell object>>\n        code = <code object <module> at 0x7f7f5665b9b0, file \"<ipython-input-22-ee9e79ddf7c1>\", line 1>\n   2828                     return True\n   2829 \n   2830             for i, node in enumerate(to_run_interactive):\n   2831                 mod = ast.Interactive([node])\n\n...........................................................................\n/opt/anaconda/envs/np18py27-1.9/lib/python2.7/site-packages/IPython/core/interactiveshell.py in run_code(self=<IPython.kernel.zmq.zmqshell.ZMQInteractiveShell object>, code_obj=<code object <module> at 0x7f7f5665b9b0, file \"<ipython-input-22-ee9e79ddf7c1>\", line 1>)\n   2878         outflag = 1  # happens in more places, so it's easier as default\n   2879         try:\n   2880             try:\n   2881                 self.hooks.pre_run_code_hook()\n   2882                 #rprint('Running code', repr(code_obj)) # dbg\n-> 2883                 exec(code_obj, self.user_global_ns, self.user_ns)\n        code_obj = <code object <module> at 0x7f7f5665b9b0, file \"<ipython-input-22-ee9e79ddf7c1>\", line 1>\n        self.user_global_ns = {'ALLOW_THREADS': 1, 'Annotation': <class 'matplotlib.text.Annotation'>, 'Arrow': <class 'matplotlib.patches.Arrow'>, 'Artist': <class 'matplotlib.artist.Artist'>, 'AutoLocator': <class 'matplotlib.ticker.AutoLocator'>, 'Axes': <class 'matplotlib.axes._axes.Axes'>, 'BUFSIZE': 8192, 'BaseEstimator': <class 'sklearn.base.BaseEstimator'>, 'Button': <class 'matplotlib.widgets.Button'>, 'CLIP': 0, ...}\n        self.user_ns = {'ALLOW_THREADS': 1, 'Annotation': <class 'matplotlib.text.Annotation'>, 'Arrow': <class 'matplotlib.patches.Arrow'>, 'Artist': <class 'matplotlib.artist.Artist'>, 'AutoLocator': <class 'matplotlib.ticker.AutoLocator'>, 'Axes': <class 'matplotlib.axes._axes.Axes'>, 'BUFSIZE': 8192, 'BaseEstimator': <class 'sklearn.base.BaseEstimator'>, 'Button': <class 'matplotlib.widgets.Button'>, 'CLIP': 0, ...}\n   2884             finally:\n   2885                 # Reset our crash handler in place\n   2886                 sys.excepthook = old_excepthook\n   2887         except SystemExit:\n\n...........................................................................\n/user_home/w_howardx/<ipython-input-22-ee9e79ddf7c1> in <module>()\n----> 1 \n      2 \n      3 \n      4 \n      5 \n      6 X_train_feature_engineered = feature_builder.fit_transform(X_train)\n      7 X_test_feature_engineered = feature_builder.fit_transform(X_test)\n      8 \n      9 rfr.fit(X_train_feature_engineered, y_train)\n     10 rfr.predict(X_test_feature_engineered)\n\n...........................................................................\n/opt/anaconda/envs/np18py27-1.9/lib/python2.7/site-packages/sklearn/pipeline.py in fit_transform(self=Pipeline(steps=[('union', FeatureUnion(n_jobs=-1...1.0, 'txt1': 0.5, 'txt2': 0.25, 'txt3': 0.05}))]), X=          attr           brand  customer rating ...t fusion pro-glide        1.0             razor  , y=None, **fit_params={})\n    156             Training targets. Must fulfill label requirements for all steps of\n    157             the pipeline.\n    158         \"\"\"\n    159         Xt, fit_params = self._pre_transform(X, y, **fit_params)\n    160         if hasattr(self.steps[-1][-1], 'fit_transform'):\n--> 161             return self.steps[-1][-1].fit_transform(Xt, y, **fit_params)\n        self.steps.fit_transform = undefined\n        Xt =           attr           brand  customer rating ...t fusion pro-glide        1.0             razor  \n        y = None\n        fit_params = {}\n    162         else:\n    163             return self.steps[-1][-1].fit(Xt, y, **fit_params).transform(Xt)\n    164 \n    165     @if_delegate_has_method(delegate='_final_estimator')\n\n...........................................................................\n/opt/anaconda/envs/np18py27-1.9/lib/python2.7/site-packages/sklearn/pipeline.py in fit_transform(self=FeatureUnion(n_jobs=-1,\n       transformer_list=...': 1.0, 'txt1': 0.5, 'txt2': 0.25, 'txt3': 0.05}), X=          attr           brand  customer rating ...t fusion pro-glide        1.0             razor  , y=None, **fit_params={})\n    444             sum of n_components (output dimension) over transformers.\n    445         \"\"\"\n    446         result = Parallel(n_jobs=self.n_jobs)(\n    447             delayed(_fit_transform_one)(trans, name, X, y,\n    448                                         self.transformer_weights, **fit_params)\n--> 449             for name, trans in self.transformer_list)\n        self.transformer_list = [('cst', cust_regression_vals()), ('txt1', Pipeline(steps=[('s1', cust_txt_col(key='search_..., n_iter=5,\n       random_state=2016, tol=0.0))])), ('txt2', Pipeline(steps=[('s2', cust_txt_col(key='product..., n_iter=5,\n       random_state=2016, tol=0.0))])), ('txt3', Pipeline(steps=[('s3', cust_txt_col(key='product..., n_iter=5,\n       random_state=2016, tol=0.0))])), ('txt4', Pipeline(steps=[('s4', cust_txt_col(key='brand')..., n_iter=5,\n       random_state=2016, tol=0.0))]))]\n    450 \n    451         Xs, transformers = zip(*result)\n    452         self._update_transformer_list(transformers)\n    453         if any(sparse.issparse(f) for f in Xs):\n\n...........................................................................\n/opt/anaconda/envs/np18py27-1.9/lib/python2.7/site-packages/sklearn/externals/joblib/parallel.py in __call__(self=Parallel(n_jobs=-1), iterable=<generator object <genexpr>>)\n    661             if pre_dispatch == \"all\" or n_jobs == 1:\n    662                 # The iterable was consumed all at once by the above for loop.\n    663                 # No need to wait for async callbacks to trigger to\n    664                 # consumption.\n    665                 self._iterating = False\n--> 666             self.retrieve()\n        self.retrieve = <bound method Parallel.retrieve of Parallel(n_jobs=-1)>\n    667             # Make sure that we get a last message telling us we are done\n    668             elapsed_time = time.time() - self._start_time\n    669             self._print('Done %3i out of %3i | elapsed: %s finished',\n    670                         (len(self._output),\n\n    ---------------------------------------------------------------------------\n    Sub-process traceback:\n    ---------------------------------------------------------------------------\n    ValueError                                         Sun Apr 17 19:45:10 2016\nPID: 691          Python 2.7.10: /opt/anaconda/envs/np18py27-1.9/bin/python\n...........................................................................\n/opt/anaconda/envs/np18py27-1.9/lib/python2.7/site-packages/sklearn/pipeline.pyc in _fit_transform_one(transformer=Pipeline(steps=[('s1', cust_txt_col(key='search_..., n_iter=5,\n       random_state=2016, tol=0.0))]), name='txt1', X=          attr           brand  customer rating ...t fusion pro-glide        1.0             razor  , y=None, transformer_weights={'cst': 1.0, 'txt1': 0.5, 'txt2': 0.25, 'txt3': 0.05, 'txt4': 0.5}, **fit_params={})\n    356 def _fit_transform_one(transformer, name, X, y, transformer_weights,\n    357                        **fit_params):\n    358     if transformer_weights is not None and name in transformer_weights:\n    359         # if we have a weight for this transformer, muliply output\n    360         if hasattr(transformer, 'fit_transform'):\n--> 361             X_transformed = transformer.fit_transform(X, y, **fit_params)\n    362             return X_transformed * transformer_weights[name], transformer\n    363         else:\n    364             X_transformed = transformer.fit(X, y, **fit_params).transform(X)\n    365             return X_transformed * transformer_weights[name], transformer\n\n...........................................................................\n/opt/anaconda/envs/np18py27-1.9/lib/python2.7/site-packages/sklearn/pipeline.pyc in fit_transform(self=Pipeline(steps=[('s1', cust_txt_col(key='search_..., n_iter=5,\n       random_state=2016, tol=0.0))]), X=          attr           brand  customer rating ...t fusion pro-glide        1.0             razor  , y=None, **fit_params={})\n    156             Training targets. Must fulfill label requirements for all steps of\n    157             the pipeline.\n    158         \"\"\"\n    159         Xt, fit_params = self._pre_transform(X, y, **fit_params)\n    160         if hasattr(self.steps[-1][-1], 'fit_transform'):\n--> 161             return self.steps[-1][-1].fit_transform(Xt, y, **fit_params)\n    162         else:\n    163             return self.steps[-1][-1].fit(Xt, y, **fit_params).transform(Xt)\n    164 \n    165     @if_delegate_has_method(delegate='_final_estimator')\n\n...........................................................................\n/opt/anaconda/envs/np18py27-1.9/lib/python2.7/site-packages/sklearn/decomposition/truncated_svd.pyc in fit_transform(self=TruncatedSVD(algorithm='randomized', n_components=20, n_iter=5,\n       random_state=2016, tol=0.0), X=<4x6 sparse matrix of type '<type 'numpy.float64... stored elements in Compressed Sparse Row format>, y=None)\n    160         elif self.algorithm == \"randomized\":\n    161             k = self.n_components\n    162             n_features = X.shape[1]\n    163             if k >= n_features:\n    164                 raise ValueError(\"n_components must be < n_features;\"\n--> 165                                  \" got %d >= %d\" % (k, n_features))\n    166             U, Sigma, VT = randomized_svd(X, self.n_components,\n    167                                           n_iter=self.n_iter,\n    168                                           random_state=random_state)\n    169         else:\n\nValueError: n_components must be < n_features; got 20 >= 6\n___________________________________________________________________________"
       ]
      }
     ],
     "prompt_number": 22
    },
    {
     "cell_type": "markdown",
     "metadata": {},
     "source": [
      "# Now chain up the pipeline of feature engineering and classifier with parameter tunnig (for classifier)"
     ]
    },
    {
     "cell_type": "code",
     "collapsed": false,
     "input": [
      "# scorer function for doing parameter tunning of random forest classifier\n",
      "def fmean_squared_error(ground_truth, predictions):\n",
      "    fmean_squared_error_ = mean_squared_error(ground_truth, predictions)**0.5\n",
      "    return fmean_squared_error_\n",
      "\n",
      "RMSE = make_scorer(fmean_squared_error, greater_is_better=False)"
     ],
     "language": "python",
     "metadata": {},
     "outputs": [],
     "prompt_number": 131
    },
    {
     "cell_type": "code",
     "collapsed": false,
     "input": [
      "# grid (represented as a dictionary) of 2 random forest classifier's parameters to search/tune upon \n",
      "param_grid = {'max_features': range(4,9), 'max_depth': range(1,3)}\n",
      "print range(5,15)"
     ],
     "language": "python",
     "metadata": {},
     "outputs": [
      {
       "output_type": "stream",
       "stream": "stdout",
       "text": [
        "[5, 6, 7, 8, 9, 10, 11, 12, 13, 14]\n"
       ]
      }
     ],
     "prompt_number": 132
    },
    {
     "cell_type": "code",
     "collapsed": false,
     "input": [
      "random_forest_tuned = grid_search.GridSearchCV(estimator = rfr, param_grid = param_grid, n_jobs = -1, cv = 2, verbose = 20, scoring=RMSE)"
     ],
     "language": "python",
     "metadata": {},
     "outputs": [],
     "prompt_number": 141
    },
    {
     "cell_type": "code",
     "collapsed": false,
     "input": [
      "random_forest_tuned.fit(X_train_feature_engineered, y_train)\n",
      "\n",
      "print(\"Best parameters found by grid search:\")\n",
      "print(random_forest_tune.best_params_)\n",
      "print(\"Best CV score:\")\n",
      "print(random_forest_tune.best_score_)"
     ],
     "language": "python",
     "metadata": {},
     "outputs": [
      {
       "output_type": "stream",
       "stream": "stdout",
       "text": [
        "Fitting 2 folds for each of 10 candidates, totalling 20 fits\n"
       ]
      },
      {
       "output_type": "stream",
       "stream": "stderr",
       "text": [
        "[Parallel(n_jobs=-1)]: Done   3 jobs       | elapsed:    0.3s\n",
        "[Parallel(n_jobs=-1)]: Done   1 jobs       | elapsed:    0.3s\n",
        "[Parallel(n_jobs=-1)]: Done   4 jobs       | elapsed:    0.3s\n",
        "[Parallel(n_jobs=-1)]: Done   2 jobs       | elapsed:    0.3s\n",
        "[Parallel(n_jobs=-1)]: Done   5 jobs       | elapsed:    0.5s\n",
        "[Parallel(n_jobs=-1)]: Done   6 jobs       | elapsed:    0.5s\n",
        "[Parallel(n_jobs=-1)]: Done   7 jobs       | elapsed:    0.5s\n",
        "[Parallel(n_jobs=-1)]: Done   8 jobs       | elapsed:    0.5s\n",
        "[Parallel(n_jobs=-1)]: Done   9 jobs       | elapsed:    0.8s\n",
        "[Parallel(n_jobs=-1)]: Done  10 jobs       | elapsed:    0.8s\n",
        "[Parallel(n_jobs=-1)]: Done  12 jobs       | elapsed:    0.8s\n",
        "[Parallel(n_jobs=-1)]: Done  11 jobs       | elapsed:    0.8s\n",
        "[Parallel(n_jobs=-1)]: Done  13 jobs       | elapsed:    1.0s\n",
        "[Parallel(n_jobs=-1)]: Done  16 out of  20 | elapsed:    1.0s remaining:    0.3s\n",
        "[Parallel(n_jobs=-1)]: Done  14 out of  20 | elapsed:    1.0s remaining:    0.4s\n",
        "[Parallel(n_jobs=-1)]: Done  18 out of  20 | elapsed:    1.3s remaining:    0.1s\n",
        "[Parallel(n_jobs=-1)]: Done  20 out of  20 | elapsed:    1.3s finished\n",
        "[Parallel(n_jobs=-1)]: Done   1 out of   3 | elapsed:    0.0s remaining:    0.0s\n",
        "[Parallel(n_jobs=-1)]: Done   1 out of   3 | elapsed:    0.0s remaining:    0.0s\n",
        "[Parallel(n_jobs=-1)]: Done   1 out of   3 | elapsed:    0.0s remaining:    0.0s\n",
        "[Parallel(n_jobs=-1)]: Done   1 out of   1 | elapsed:    0.0s remaining:    0.0s\n",
        "[Parallel(n_jobs=-1)]: Done   3 out of   3 | elapsed:    0.0s finished\n",
        "[Parallel(n_jobs=-1)]: Done   3 out of   3 | elapsed:    0.0s finished\n",
        "[Parallel(n_jobs=-1)]: Done   3 out of   3 | elapsed:    0.0s finished\n",
        "[Parallel(n_jobs=-1)]: Done   3 out of   3 | elapsed:    0.0s finished\n",
        "[Parallel(n_jobs=3)]: Done   1 out of   3 | elapsed:    0.0s remaining:    0.0s\n",
        "[Parallel(n_jobs=3)]: Done   1 out of   3 | elapsed:    0.0s remaining:    0.0s\n",
        "[Parallel(n_jobs=3)]: Done   1 out of   2 | elapsed:    0.0s remaining:    0.0s\n",
        "[Parallel(n_jobs=3)]: Done   1 out of   3 | elapsed:    0.0s remaining:    0.0s\n",
        "[Parallel(n_jobs=3)]: Done   3 out of   3 | elapsed:    0.0s finished\n",
        "[Parallel(n_jobs=3)]: Done   3 out of   3 | elapsed:    0.0s finished\n",
        "[Parallel(n_jobs=3)]: Done   3 out of   3 | elapsed:    0.0s finished\n",
        "[Parallel(n_jobs=3)]: Done   3 out of   3 | elapsed:    0.0s finished\n",
        "[Parallel(n_jobs=-1)]: Done   1 out of   3 | elapsed:    0.0s remaining:    0.0s\n",
        "[Parallel(n_jobs=-1)]: Done   1 out of   3 | elapsed:    0.0s remaining:    0.0s\n",
        "[Parallel(n_jobs=-1)]: Done   1 out of   3 | elapsed:    0.0s remaining:    0.0s\n",
        "[Parallel(n_jobs=-1)]: Done   1 out of   3 | elapsed:    0.0s remaining:    0.0s\n",
        "[Parallel(n_jobs=-1)]: Done   3 out of   3 | elapsed:    0.0s finished\n",
        "[Parallel(n_jobs=-1)]: Done   3 out of   3 | elapsed:    0.0s finished\n",
        "[Parallel(n_jobs=-1)]: Done   3 out of   3 | elapsed:    0.0s finished\n",
        "[Parallel(n_jobs=-1)]: Done   3 out of   3 | elapsed:    0.0s finished\n",
        "[Parallel(n_jobs=3)]: Done   1 out of   3 | elapsed:    0.0s remaining:    0.0s\n",
        "[Parallel(n_jobs=3)]: Done   1 out of   3 | elapsed:    0.0s remaining:    0.0s\n",
        "[Parallel(n_jobs=3)]: Done   1 out of   3 | elapsed:    0.0s remaining:    0.0s\n",
        "[Parallel(n_jobs=3)]: Done   1 out of   3 | elapsed:    0.0s remaining:    0.0s\n",
        "[Parallel(n_jobs=3)]: Done   3 out of   3 | elapsed:    0.0s finished\n",
        "[Parallel(n_jobs=3)]: Done   3 out of   3 | elapsed:    0.0s finished\n",
        "[Parallel(n_jobs=3)]: Done   3 out of   3 | elapsed:    0.0s finished\n",
        "[Parallel(n_jobs=3)]: Done   3 out of   3 | elapsed:    0.0s finished\n",
        "[Parallel(n_jobs=-1)]: Done   1 out of   3 | elapsed:    0.0s remaining:    0.0s\n",
        "[Parallel(n_jobs=-1)]: Done   1 out of   3 | elapsed:    0.0s remaining:    0.0s\n",
        "[Parallel(n_jobs=-1)]: Done   1 out of   3 | elapsed:    0.0s remaining:    0.0s\n",
        "[Parallel(n_jobs=-1)]: Done   1 out of   3 | elapsed:    0.0s remaining:    0.0s\n",
        "[Parallel(n_jobs=-1)]: Done   3 out of   3 | elapsed:    0.0s finished\n",
        "[Parallel(n_jobs=-1)]: Done   3 out of   3 | elapsed:    0.0s finished\n",
        "[Parallel(n_jobs=-1)]: Done   3 out of   3 | elapsed:    0.0s finished\n",
        "[Parallel(n_jobs=-1)]: Done   3 out of   3 | elapsed:    0.0s finished\n",
        "[Parallel(n_jobs=3)]: Done   1 out of   3 | elapsed:    0.0s remaining:    0.0s\n",
        "[Parallel(n_jobs=3)]: Done   1 out of   3 | elapsed:    0.0s remaining:    0.0s\n",
        "[Parallel(n_jobs=3)]: Done   1 out of   2 | elapsed:    0.0s remaining:    0.0s\n",
        "[Parallel(n_jobs=3)]: Done   1 out of   3 | elapsed:    0.0s remaining:    0.0s\n",
        "[Parallel(n_jobs=3)]: Done   3 out of   3 | elapsed:    0.0s finished\n",
        "[Parallel(n_jobs=3)]: Done   3 out of   3 | elapsed:    0.0s finished\n",
        "[Parallel(n_jobs=3)]: Done   3 out of   3 | elapsed:    0.0s finished\n",
        "[Parallel(n_jobs=3)]: Done   3 out of   3 | elapsed:    0.0s finished\n",
        "[Parallel(n_jobs=-1)]: Done   1 out of   3 | elapsed:    0.0s remaining:    0.0s\n",
        "[Parallel(n_jobs=-1)]: Done   1 out of   2 | elapsed:    0.0s remaining:    0.0s\n",
        "[Parallel(n_jobs=-1)]: Done   1 out of   3 | elapsed:    0.0s remaining:    0.0s\n",
        "[Parallel(n_jobs=-1)]: Done   1 out of   3 | elapsed:    0.0s remaining:    0.0s\n",
        "[Parallel(n_jobs=-1)]: Done   3 out of   3 | elapsed:    0.0s finished\n",
        "[Parallel(n_jobs=-1)]: Done   3 out of   3 | elapsed:    0.0s finished\n",
        "[Parallel(n_jobs=-1)]: Done   3 out of   3 | elapsed:    0.0s finished\n",
        "[Parallel(n_jobs=-1)]: Done   3 out of   3 | elapsed:    0.0s finished\n",
        "[Parallel(n_jobs=3)]: Done   1 out of   3 | elapsed:    0.0s remaining:    0.0s\n",
        "[Parallel(n_jobs=3)]: Done   1 out of   3 | elapsed:    0.0s remaining:    0.0s\n",
        "[Parallel(n_jobs=3)]: Done   1 out of   3 | elapsed:    0.0s remaining:    0.0s\n",
        "[Parallel(n_jobs=3)]: Done   1 out of   3 | elapsed:    0.0s remaining:    0.0s\n",
        "[Parallel(n_jobs=3)]: Done   3 out of   3 | elapsed:    0.0s finished\n",
        "[Parallel(n_jobs=3)]: Done   3 out of   3 | elapsed:    0.0s finished\n",
        "[Parallel(n_jobs=3)]: Done   3 out of   3 | elapsed:    0.0s finished\n",
        "[Parallel(n_jobs=3)]: Done   3 out of   3 | elapsed:    0.0s finished\n",
        "[Parallel(n_jobs=-1)]: Done   1 out of   3 | elapsed:    0.0s remaining:    0.0s\n",
        "[Parallel(n_jobs=-1)]: Done   1 out of   3 | elapsed:    0.0s remaining:    0.0s\n",
        "[Parallel(n_jobs=-1)]: Done   1 out of   3 | elapsed:    0.0s remaining:    0.0s\n",
        "[Parallel(n_jobs=-1)]: Done   1 out of   2 | elapsed:    0.0s remaining:    0.0s\n",
        "[Parallel(n_jobs=-1)]: Done   3 out of   3 | elapsed:    0.0s finished\n",
        "[Parallel(n_jobs=-1)]: Done   3 out of   3 | elapsed:    0.0s finished\n",
        "[Parallel(n_jobs=-1)]: Done   3 out of   3 | elapsed:    0.0s finished\n",
        "[Parallel(n_jobs=-1)]: Done   3 out of   3 | elapsed:    0.0s finished\n",
        "[Parallel(n_jobs=3)]: Done   1 out of   3 | elapsed:    0.0s remaining:    0.0s\n",
        "[Parallel(n_jobs=3)]: Done   1 out of   3 | elapsed:    0.0s remaining:    0.0s\n",
        "[Parallel(n_jobs=3)]: Done   1 out of   1 | elapsed:    0.0s remaining:    0.0s\n",
        "[Parallel(n_jobs=3)]: Done   1 out of   3 | elapsed:    0.0s remaining:    0.0s\n",
        "[Parallel(n_jobs=3)]: Done   3 out of   3 | elapsed:    0.0s finished\n",
        "[Parallel(n_jobs=3)]: Done   3 out of   3 | elapsed:    0.0s finished\n",
        "[Parallel(n_jobs=3)]: Done   3 out of   3 | elapsed:    0.0s finished\n",
        "[Parallel(n_jobs=3)]: Done   3 out of   3 | elapsed:    0.0s finished\n"
       ]
      },
      {
       "output_type": "stream",
       "stream": "stdout",
       "text": [
        "Best parameters found by grid search:\n",
        "{'max_features': 4, 'max_depth': 1}\n",
        "Best CV score:\n",
        "-2.84188594804\n",
        "[CV] max_features=4, max_depth=1 .....................................\n",
        "[CV] max_features=4, max_depth=1 .....................................\n",
        "[CV] max_features=5, max_depth=1 .....................................\n",
        "[CV] max_features=5, max_depth=1 .....................................\n",
        "[CV] ........... max_features=4, max_depth=1, score=-2.850439 -   0.3s[CV] ........... max_features=4, max_depth=1, score=-2.833333 -   0.3s[CV] ........... max_features=5, max_depth=1, score=-2.850439 -   0.3s[CV] ........... max_features=5, max_depth=1, score=-2.833333 -   0.2s\n",
        "\n",
        "\n",
        "\n",
        "[CV] max_features=6, max_depth=1 .....................................\n",
        "[CV] max_features=7, max_depth=1 .....................................\n",
        "[CV] max_features=6, max_depth=1 .....................................\n",
        "[CV] max_features=7, max_depth=1 .....................................\n",
        "[CV] ........... max_features=6, max_depth=1, score=-2.833333 -   0.2s[CV] ........... max_features=7, max_depth=1, score=-2.833333 -   0.2s[CV] ........... max_features=6, max_depth=1, score=-2.850439 -   0.2s[CV] ........... max_features=7, max_depth=1, score=-2.850439 -   0.2s\n",
        "\n",
        "\n",
        "\n",
        "[CV] max_features=8, max_depth=1 .....................................\n",
        "[CV] max_features=4, max_depth=2 .....................................\n",
        "[CV] max_features=8, max_depth=1 .....................................\n",
        "[CV] max_features=4, max_depth=2 .....................................\n",
        "[CV] ........... max_features=8, max_depth=1, score=-2.833333 -   0.2s[CV] ........... max_features=4, max_depth=2, score=-2.833333 -   0.2s[CV] ........... max_features=8, max_depth=1, score=-2.850439 -   0.2s[CV] ........... max_features=4, max_depth=2, score=-2.850439 -   0.2s\n",
        "\n",
        "\n",
        "\n",
        "[CV] max_features=5, max_depth=2 .....................................\n",
        "[CV] max_features=6, max_depth=2 .....................................\n",
        "[CV] max_features=5, max_depth=2 .....................................\n",
        "[CV] max_features=6, max_depth=2 .....................................\n",
        "[CV] ........... max_features=5, max_depth=2, score=-2.833333 -   0.2s[CV] ........... max_features=6, max_depth=2, score=-2.850439 -   0.2s[CV] ........... max_features=5, max_depth=2, score=-2.850439 -   0.2s[CV] ........... max_features=6, max_depth=2, score=-2.833333 -   0.2s\n",
        "\n",
        "\n",
        "\n",
        "[CV] max_features=8, max_depth=2 .....................................\n",
        "[CV] max_features=8, max_depth=2 .....................................\n",
        "[CV] max_features=7, max_depth=2 .....................................\n",
        "[CV] max_features=7, max_depth=2 .....................................\n",
        "[CV] ........... max_features=8, max_depth=2, score=-2.833333 -   0.2s[CV] ........... max_features=8, max_depth=2, score=-2.850439 -   0.2s[CV] ........... max_features=7, max_depth=2, score=-2.850439 -   0.2s[CV] ........... max_features=7, max_depth=2, score=-2.833333 -   0.2s\n",
        "\n",
        "\n",
        "\n"
       ]
      },
      {
       "output_type": "stream",
       "stream": "stderr",
       "text": [
        "[Parallel(n_jobs=-1)]: Done   1 out of   3 | elapsed:    0.0s remaining:    0.0s\n",
        "[Parallel(n_jobs=-1)]: Done   3 out of   3 | elapsed:    0.0s finished\n"
       ]
      }
     ],
     "prompt_number": 142
    },
    {
     "cell_type": "code",
     "collapsed": false,
     "input": [
      "random_forest_tuned.predict(X_test_feature_engineered)"
     ],
     "language": "python",
     "metadata": {},
     "outputs": [
      {
       "output_type": "stream",
       "stream": "stderr",
       "text": [
        "[Parallel(n_jobs=3)]: Done   1 out of   3 | elapsed:    0.0s remaining:    0.0s\n",
        "[Parallel(n_jobs=3)]: Done   3 out of   3 | elapsed:    0.0s finished\n"
       ]
      },
      {
       "metadata": {},
       "output_type": "pyout",
       "prompt_number": 143,
       "text": [
        "array([ 1.        ,  3.83333333])"
       ]
      }
     ],
     "prompt_number": 143
    },
    {
     "cell_type": "code",
     "collapsed": false,
     "input": [],
     "language": "python",
     "metadata": {},
     "outputs": []
    }
   ],
   "metadata": {}
  }
 ]
}