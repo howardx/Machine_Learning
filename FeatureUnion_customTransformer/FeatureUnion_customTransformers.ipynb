{
 "metadata": {
  "name": "",
  "signature": "sha256:87628dbaf7e478fc084b2ccd5b2abdab0ec04eca193c9dfbd0a6e316f48b7643"
 },
 "nbformat": 3,
 "nbformat_minor": 0,
 "worksheets": [
  {
   "cells": [
    {
     "cell_type": "code",
     "collapsed": false,
     "input": [
      "from IPython.core.display import HTML\n",
      "HTML(\"<style>.container { width:100% !important; }</style>\")"
     ],
     "language": "python",
     "metadata": {},
     "outputs": [
      {
       "html": [
        "<style>.container { width:100% !important; }</style>"
       ],
       "metadata": {},
       "output_type": "pyout",
       "prompt_number": 85,
       "text": [
        "<IPython.core.display.HTML at 0x7f0b1246f610>"
       ]
      }
     ],
     "prompt_number": 85
    },
    {
     "cell_type": "code",
     "collapsed": false,
     "input": [
      "import numpy as np\n",
      "import pandas as pd\n",
      "from sklearn.ensemble import RandomForestRegressor\n",
      "\n",
      "from sklearn import pipeline, grid_search\n",
      "\n",
      "from sklearn.base import BaseEstimator, TransformerMixin\n",
      "from sklearn.pipeline import FeatureUnion\n",
      "from sklearn.decomposition import TruncatedSVD\n",
      "\n",
      "from sklearn.feature_extraction.text import TfidfVectorizer\n",
      "from sklearn.metrics import mean_squared_error, make_scorer\n",
      "\n",
      "pd.set_option('display.max_columns', 300)\n",
      "pd.set_option('display.width', None)\n",
      "pd.set_option('display.line_width', 200)\n",
      "\n",
      "pd.set_option('display.max_colwidth', 200)"
     ],
     "language": "python",
     "metadata": {},
     "outputs": [
      {
       "output_type": "stream",
       "stream": "stdout",
       "text": [
        "line_width has been deprecated, use display.width instead (currently both are\n",
        "identical)\n",
        "\n"
       ]
      }
     ],
     "prompt_number": 86
    },
    {
     "cell_type": "code",
     "collapsed": false,
     "input": [
      "mydata = [\n",
      "{'id':'B14', 'relevance':1.5, 'search_term':'dandruff shampoo', 'product_title':'Dove dandruff','product_description':'awsome anti-dandruff shampoo',\n",
      " 'product_info':'3 pack shampoo', 'attr':'webpage', 'brand':'Dove', 'customer rating':4},\n",
      "{'id':'B1', 'relevance':5, 'search_term':'soap bar', 'product_title':'Dove soap bar','product_description':'awsome hydrating soap bar',\n",
      " 'product_info':'3 pack soap bar', 'attr':'mobile link', 'brand':'Dove pro', 'customer rating':3.5},\n",
      "{'id':'A4', 'relevance':1, 'search_term':'razor blade', 'product_title':'Giellet pro-glide','product_description':'awsome Giellet pro-glide',\n",
      " 'product_info':'12 pack razor blade', 'attr':'online ad', 'brand':'Giellet', 'customer rating':5},\n",
      "{'id':'4', 'relevance':1, 'search_term':'razor', 'product_title':'Giellet fusion pro-glide','product_description':'awsome Giellet razor blade',\n",
      " 'product_info':'12 pack razor blade', 'attr':'online ad', 'brand':'Giellet fusion', 'customer rating':5},]\n",
      "\n",
      "test = [\n",
      "{'id':'14', 'relevance':5, 'search_term':'dandruff shampoo', 'product_title':'Head and Shoulders dandruff',\n",
      " 'product_description':'anti-dandruff shampoo and conditioner', 'product_info':'6 pack shampoo', 'attr':'mobile link', \n",
      " 'brand':'Head and Shoulders', 'customer rating':4.5},\n",
      "{'id':'1', 'relevance':4.5, 'search_term':'shower gel', 'product_title':'Axe shower gel','product_description':'hydrating shower gel',\n",
      " 'product_info':'axe shower gel deep clense', 'attr':'mobile link', 'brand':'axe', 'customer rating':2.5},]\n",
      "\n",
      "df = pd.DataFrame(mydata)\n",
      "testing_set = pd.DataFrame(test)\n",
      "\n",
      "y_train = df['relevance'].values\n",
      "X_train = df\n",
      "\n",
      "y_test = testing_set['relevance'].values\n",
      "X_test = testing_set"
     ],
     "language": "python",
     "metadata": {},
     "outputs": [],
     "prompt_number": 121
    },
    {
     "cell_type": "code",
     "collapsed": false,
     "input": [
      "class cust_regression_vals(BaseEstimator, TransformerMixin):\n",
      "    def fit(self, x, y=None):\n",
      "        return self\n",
      "    def transform(self, hd_searches):\n",
      "        d_col_drops=['id','relevance','search_term','product_title','product_description','product_info','attr','brand']\n",
      "        hd_searches = hd_searches.drop(d_col_drops,axis=1).values\n",
      "        return hd_searches"
     ],
     "language": "python",
     "metadata": {},
     "outputs": [],
     "prompt_number": 88
    },
    {
     "cell_type": "code",
     "collapsed": false,
     "input": [
      "class cust_txt_col(BaseEstimator, TransformerMixin):\n",
      "    def __init__(self, key):\n",
      "        self.key = key\n",
      "    def fit(self, x, y=None):\n",
      "        return self\n",
      "    def transform(self, df):\n",
      "        return df[self.key].apply(str)"
     ],
     "language": "python",
     "metadata": {},
     "outputs": [],
     "prompt_number": 89
    },
    {
     "cell_type": "code",
     "collapsed": false,
     "input": [
      "print type(df)\n",
      "X_train"
     ],
     "language": "python",
     "metadata": {},
     "outputs": [
      {
       "output_type": "stream",
       "stream": "stdout",
       "text": [
        "<class 'pandas.core.frame.DataFrame'>\n"
       ]
      },
      {
       "html": [
        "<div style=\"max-width:1500px;overflow:auto;\">\n",
        "<table border=\"1\" class=\"dataframe\">\n",
        "  <thead>\n",
        "    <tr style=\"text-align: right;\">\n",
        "      <th></th>\n",
        "      <th>attr</th>\n",
        "      <th>brand</th>\n",
        "      <th>customer rating</th>\n",
        "      <th>id</th>\n",
        "      <th>product_description</th>\n",
        "      <th>product_info</th>\n",
        "      <th>product_title</th>\n",
        "      <th>relevance</th>\n",
        "      <th>search_term</th>\n",
        "    </tr>\n",
        "  </thead>\n",
        "  <tbody>\n",
        "    <tr>\n",
        "      <th>0</th>\n",
        "      <td>webpage</td>\n",
        "      <td>Dove</td>\n",
        "      <td>4.0</td>\n",
        "      <td>B14</td>\n",
        "      <td>awsome anti-dandruff shampoo</td>\n",
        "      <td>3 pack shampoo</td>\n",
        "      <td>Dove dandruff</td>\n",
        "      <td>1.5</td>\n",
        "      <td>dandruff shampoo</td>\n",
        "    </tr>\n",
        "    <tr>\n",
        "      <th>1</th>\n",
        "      <td>mobile link</td>\n",
        "      <td>Dove pro</td>\n",
        "      <td>3.5</td>\n",
        "      <td>B1</td>\n",
        "      <td>awsome hydrating soap bar</td>\n",
        "      <td>3 pack soap bar</td>\n",
        "      <td>Dove soap bar</td>\n",
        "      <td>5.0</td>\n",
        "      <td>soap bar</td>\n",
        "    </tr>\n",
        "    <tr>\n",
        "      <th>2</th>\n",
        "      <td>online ad</td>\n",
        "      <td>Giellet</td>\n",
        "      <td>5.0</td>\n",
        "      <td>A4</td>\n",
        "      <td>awsome Giellet pro-glide</td>\n",
        "      <td>12 pack razor blade</td>\n",
        "      <td>Giellet pro-glide</td>\n",
        "      <td>1.0</td>\n",
        "      <td>razor blade</td>\n",
        "    </tr>\n",
        "    <tr>\n",
        "      <th>3</th>\n",
        "      <td>online ad</td>\n",
        "      <td>Giellet fusion</td>\n",
        "      <td>5.0</td>\n",
        "      <td>4</td>\n",
        "      <td>awsome Giellet razor blade</td>\n",
        "      <td>12 pack razor blade</td>\n",
        "      <td>Giellet fusion pro-glide</td>\n",
        "      <td>1.0</td>\n",
        "      <td>razor</td>\n",
        "    </tr>\n",
        "  </tbody>\n",
        "</table>\n",
        "</div>"
       ],
       "metadata": {},
       "output_type": "pyout",
       "prompt_number": 90,
       "text": [
        "          attr           brand  customer rating   id           product_description         product_info             product_title  relevance       search_term\n",
        "0      webpage            Dove              4.0  B14  awsome anti-dandruff shampoo       3 pack shampoo             Dove dandruff        1.5  dandruff shampoo\n",
        "1  mobile link        Dove pro              3.5   B1     awsome hydrating soap bar      3 pack soap bar             Dove soap bar        5.0          soap bar\n",
        "2    online ad         Giellet              5.0   A4      awsome Giellet pro-glide  12 pack razor blade         Giellet pro-glide        1.0       razor blade\n",
        "3    online ad  Giellet fusion              5.0    4    awsome Giellet razor blade  12 pack razor blade  Giellet fusion pro-glide        1.0             razor"
       ]
      }
     ],
     "prompt_number": 90
    },
    {
     "cell_type": "code",
     "collapsed": false,
     "input": [
      "# instantiate transformers to be used in the feature union pipeline\n",
      "tfidf = TfidfVectorizer(ngram_range=(1, 1), stop_words='english')\n",
      "tsvd = TruncatedSVD(n_components = 2, random_state = 2016)\n",
      "\n",
      "# custom transformer cust_txt_col()\n",
      "ctc_customer_rating = cust_txt_col('customer rating') # specify column name to convert to string\n",
      "ctc_brand = cust_txt_col('brand')\n",
      "\n",
      "# custom transformer cust_regression_vals()\n",
      "crv = cust_regression_vals() # nothing needed from constructor - not even a constructor in class"
     ],
     "language": "python",
     "metadata": {},
     "outputs": [],
     "prompt_number": 91
    },
    {
     "cell_type": "code",
     "collapsed": false,
     "input": [
      "print ctc_customer_rating.transform(df)\n",
      "print type(ctc_customer_rating.transform(df).values[0]) # ctc transformer makes sure to convert elements to string type\n",
      "\n",
      "brand = ctc_brand.transform(df)"
     ],
     "language": "python",
     "metadata": {},
     "outputs": [
      {
       "output_type": "stream",
       "stream": "stdout",
       "text": [
        "0    4.0\n",
        "1    3.5\n",
        "2    5.0\n",
        "3    5.0\n",
        "Name: customer rating, dtype: object\n",
        "<type 'str'>\n"
       ]
      }
     ],
     "prompt_number": 92
    },
    {
     "cell_type": "code",
     "collapsed": false,
     "input": [
      "tfidf_from_df = tfidf.fit_transform(brand)\n",
      "\n",
      "print tfidf.get_feature_names() # all term/feature names in input \n",
      "print tfidf_from_df"
     ],
     "language": "python",
     "metadata": {},
     "outputs": [
      {
       "output_type": "stream",
       "stream": "stdout",
       "text": [
        "[u'dove', u'fusion', u'giellet', u'pro']\n",
        "  (0, 0)\t1.0\n",
        "  (1, 3)\t0.78528827571\n",
        "  (1, 0)\t0.61913029649\n",
        "  (2, 2)\t1.0\n",
        "  (3, 1)\t0.78528827571\n",
        "  (3, 2)\t0.61913029649\n"
       ]
      }
     ],
     "prompt_number": 93
    },
    {
     "cell_type": "code",
     "collapsed": false,
     "input": [
      "# cust_regression_vals() transformer drops all non-numeric columns and target/predictor column, then converts the rest to numpy array\n",
      "crv_transformed = crv.transform(df)\n",
      "crv_transformed"
     ],
     "language": "python",
     "metadata": {},
     "outputs": [
      {
       "metadata": {},
       "output_type": "pyout",
       "prompt_number": 94,
       "text": [
        "array([[ 4. ],\n",
        "       [ 3.5],\n",
        "       [ 5. ],\n",
        "       [ 5. ]])"
       ]
      }
     ],
     "prompt_number": 94
    },
    {
     "cell_type": "code",
     "collapsed": false,
     "input": [
      "rfr = RandomForestRegressor(n_estimators = 3, n_jobs = -1, random_state = 2016, verbose = 1)"
     ],
     "language": "python",
     "metadata": {},
     "outputs": [],
     "prompt_number": 95
    },
    {
     "cell_type": "markdown",
     "metadata": {},
     "source": [
      "# FeatureUnion Concatenates results of multiple transformer objects\n",
      "- This example feeds the output of the input dataframe into each of the 'cst', 'txt1', 'txt2' and other pipeline steps, then concatenates their outputs (ALONG AXIS 1) before feeding it into the random forest classifier\n",
      "\n",
      "- \"transformer_weights\" contains multiplicative weights for features per transformer"
     ]
    },
    {
     "cell_type": "code",
     "collapsed": false,
     "input": [
      "clf = pipeline.Pipeline([\n",
      "    ('union', FeatureUnion(\n",
      "        transformer_list = \n",
      "        [\n",
      "            ('cst',  cust_regression_vals()),  \n",
      "            ('txt1', pipeline.Pipeline([('s1', cust_txt_col(key='search_term')), ('tfidf1', tfidf), ('tsvd1', tsvd)])),\n",
      "            ('txt2', pipeline.Pipeline([('s2', cust_txt_col(key='product_title')), ('tfidf2', tfidf), ('tsvd2', tsvd)])),\n",
      "            ('txt3', pipeline.Pipeline([('s3', cust_txt_col(key='product_description')), ('tfidf3', tfidf), ('tsvd3', tsvd)])),\n",
      "            ('txt4', pipeline.Pipeline([('s4', cust_txt_col(key='brand')), ('tfidf4', tfidf), ('tsvd4', tsvd)]))\n",
      "        ],\n",
      "        transformer_weights = \n",
      "        {\n",
      "            'cst': 1.0,\n",
      "            'txt1': 0.5,\n",
      "            'txt2': 0.25,\n",
      "            'txt3': 0.05,\n",
      "            'txt4': 0.5\n",
      "        },\n",
      "        #n_jobs = -1 # tells python to run this pipeline in parallel\n",
      "    )), \n",
      "    ('rfr', rfr)])"
     ],
     "language": "python",
     "metadata": {},
     "outputs": [],
     "prompt_number": 109
    },
    {
     "cell_type": "markdown",
     "metadata": {},
     "source": [
      "# Break the above customized classifier \"clf\" into pieces\n",
      "- first take out the feature generation piece only"
     ]
    },
    {
     "cell_type": "code",
     "collapsed": false,
     "input": [
      "# split out feature building steps from above clf pipeline\n",
      "feature_builder = pipeline.Pipeline([\n",
      "    ('union', FeatureUnion(\n",
      "        transformer_list = \n",
      "        [\n",
      "            ('cst',  cust_regression_vals()),  \n",
      "            ('txt1', pipeline.Pipeline([('s1', cust_txt_col(key='search_term')), ('tfidf1', tfidf), ('tsvd1', tsvd)])),\n",
      "            ('txt2', pipeline.Pipeline([('s2', cust_txt_col(key='product_title')), ('tfidf2', tfidf), ('tsvd2', tsvd)])),\n",
      "            ('txt3', pipeline.Pipeline([('s3', cust_txt_col(key='product_description')), ('tfidf3', tfidf), ('tsvd3', tsvd)])),\n",
      "            ('txt4', pipeline.Pipeline([('s4', cust_txt_col(key='brand')), ('tfidf4', tfidf), ('tsvd4', tsvd)]))\n",
      "        ],\n",
      "        transformer_weights = \n",
      "        {\n",
      "            'cst': 1.0,\n",
      "            'txt1': 0.5,\n",
      "            'txt2': 0.25,\n",
      "            'txt3': 0.05,\n",
      "            'txt4': 0.5\n",
      "        },\n",
      "        n_jobs = -1 # tells python to run this pipeline in parallel\n",
      "    ))])"
     ],
     "language": "python",
     "metadata": {},
     "outputs": [],
     "prompt_number": 110
    },
    {
     "cell_type": "markdown",
     "metadata": {},
     "source": [
      "# Take out one transformer from the feature generation pipeline and explore what it does\n",
      "- customized transformer \"txt4\" for feature \"product_description\""
     ]
    },
    {
     "cell_type": "code",
     "collapsed": false,
     "input": [
      "# What txt4 looks like\n",
      "print X_train['product_description'] # all input data \n",
      "\n",
      "txt4 = pipeline.Pipeline([('s3', cust_txt_col(key='product_description')), ('tfidf3', tfidf), ('tsvd3', tsvd)])\n",
      "print \"txt4 custom transformer instantiated\""
     ],
     "language": "python",
     "metadata": {},
     "outputs": [
      {
       "output_type": "stream",
       "stream": "stdout",
       "text": [
        "0    awsome anti-dandruff shampoo\n",
        "1       awsome hydrating soap bar\n",
        "2        awsome Giellet pro-glide\n",
        "3      awsome Giellet razor blade\n",
        "Name: product_description, dtype: object\n",
        "txt4 custom transformer instantiated\n"
       ]
      }
     ],
     "prompt_number": 111
    },
    {
     "cell_type": "code",
     "collapsed": false,
     "input": [
      "# What txt4 should do WITHOUT pipeline - STEP I\n",
      "ctc_product_desc = cust_txt_col(key='product_description')\n",
      "all_string_type = ctc_product_desc.fit_transform(X_train) \n",
      "\n",
      "print all_string_type.apply(type)"
     ],
     "language": "python",
     "metadata": {},
     "outputs": [
      {
       "output_type": "stream",
       "stream": "stdout",
       "text": [
        "0    <type 'str'>\n",
        "1    <type 'str'>\n",
        "2    <type 'str'>\n",
        "3    <type 'str'>\n",
        "Name: product_description, dtype: object\n"
       ]
      }
     ],
     "prompt_number": 112
    },
    {
     "cell_type": "code",
     "collapsed": false,
     "input": [
      "# What txt4 should do WITHOUT pipeline - STEP II\n",
      "tfidf_product_desc = tfidf.fit_transform(all_string_type)\n",
      "\n",
      "print tfidf.get_feature_names()\n",
      "print tfidf_product_desc.toarray().shape\n",
      "print tfidf_product_desc.toarray()"
     ],
     "language": "python",
     "metadata": {},
     "outputs": [
      {
       "output_type": "stream",
       "stream": "stdout",
       "text": [
        "[u'anti', u'awsome', u'bar', u'blade', u'dandruff', u'giellet', u'glide', u'hydrating', u'pro', u'razor', u'shampoo', u'soap']\n",
        "(4, 12)\n",
        "[[ 0.55280532  0.28847675  0.          0.          0.55280532  0.          0.\n",
        "   0.          0.          0.          0.55280532  0.        ]\n",
        " [ 0.          0.28847675  0.55280532  0.          0.          0.          0.\n",
        "   0.55280532  0.          0.          0.          0.55280532]\n",
        " [ 0.          0.30675807  0.          0.          0.          0.46345796\n",
        "   0.58783765  0.          0.58783765  0.          0.          0.        ]\n",
        " [ 0.          0.30675807  0.          0.58783765  0.          0.46345796\n",
        "   0.          0.          0.          0.58783765  0.          0.        ]]\n"
       ]
      }
     ],
     "prompt_number": 113
    },
    {
     "cell_type": "code",
     "collapsed": false,
     "input": [
      "# What txt4 should do WITHOUT pipeline - STEP III\n",
      "tsvd_product_desc = tsvd.fit_transform(tfidf_product_desc)\n",
      "print tsvd_product_desc"
     ],
     "language": "python",
     "metadata": {},
     "outputs": [
      {
       "output_type": "stream",
       "stream": "stdout",
       "text": [
        "[[ 0.40315227  0.61569284]\n",
        " [ 0.40315227  0.61569284]\n",
        " [ 0.735149   -0.33764306]\n",
        " [ 0.735149   -0.33764306]]\n"
       ]
      }
     ],
     "prompt_number": 114
    },
    {
     "cell_type": "markdown",
     "metadata": {},
     "source": [
      "# Now see the feature generation pipeline's output integrate with RandomForest - WITHOUT pipeline"
     ]
    },
    {
     "cell_type": "code",
     "collapsed": false,
     "input": [
      "X_train_feature_engineered = feature_builder.fit_transform(X_train)\n",
      "X_test_feature_engineered = feature_builder.fit_transform(X_test)\n",
      "\n",
      "rfr.fit(X_train_feature_engineered, y_train)\n",
      "rfr.predict(X_test_feature_engineered)"
     ],
     "language": "python",
     "metadata": {},
     "outputs": [
      {
       "output_type": "stream",
       "stream": "stderr",
       "text": [
        "[Parallel(n_jobs=-1)]: Done   1 out of   3 | elapsed:    0.0s remaining:    0.0s\n",
        "[Parallel(n_jobs=-1)]: Done   3 out of   3 | elapsed:    0.0s finished\n",
        "[Parallel(n_jobs=3)]: Done   1 out of   3 | elapsed:    0.0s remaining:    0.0s\n",
        "[Parallel(n_jobs=3)]: Done   3 out of   3 | elapsed:    0.0s finished\n"
       ]
      },
      {
       "metadata": {},
       "output_type": "pyout",
       "prompt_number": 125,
       "text": [
        "array([ 1.        ,  3.83333333])"
       ]
      }
     ],
     "prompt_number": 125
    },
    {
     "cell_type": "markdown",
     "metadata": {},
     "source": [
      "# Now chain up the pipeline of feature engineering and classifier with parameter tunnig (for classifier)"
     ]
    },
    {
     "cell_type": "code",
     "collapsed": false,
     "input": [
      "# scorer function for doing parameter tunning of random forest classifier\n",
      "def fmean_squared_error(ground_truth, predictions):\n",
      "    fmean_squared_error_ = mean_squared_error(ground_truth, predictions)**0.5\n",
      "    return fmean_squared_error_\n",
      "\n",
      "RMSE = make_scorer(fmean_squared_error, greater_is_better=False)"
     ],
     "language": "python",
     "metadata": {},
     "outputs": [],
     "prompt_number": 131
    },
    {
     "cell_type": "code",
     "collapsed": false,
     "input": [
      "# grid (represented as a dictionary) of 2 random forest classifier's parameters to search/tune upon \n",
      "param_grid = {'max_features': range(4,9), 'max_depth': range(1,3)}\n",
      "print range(5,15)"
     ],
     "language": "python",
     "metadata": {},
     "outputs": [
      {
       "output_type": "stream",
       "stream": "stdout",
       "text": [
        "[5, 6, 7, 8, 9, 10, 11, 12, 13, 14]\n"
       ]
      }
     ],
     "prompt_number": 132
    },
    {
     "cell_type": "code",
     "collapsed": false,
     "input": [
      "random_forest_tuned = grid_search.GridSearchCV(estimator = rfr, param_grid = param_grid, n_jobs = -1, cv = 2, verbose = 20, scoring=RMSE)"
     ],
     "language": "python",
     "metadata": {},
     "outputs": [],
     "prompt_number": 141
    },
    {
     "cell_type": "code",
     "collapsed": false,
     "input": [
      "random_forest_tuned.fit(X_train_feature_engineered, y_train)\n",
      "\n",
      "print(\"Best parameters found by grid search:\")\n",
      "print(random_forest_tune.best_params_)\n",
      "print(\"Best CV score:\")\n",
      "print(random_forest_tune.best_score_)"
     ],
     "language": "python",
     "metadata": {},
     "outputs": [
      {
       "output_type": "stream",
       "stream": "stdout",
       "text": [
        "Fitting 2 folds for each of 10 candidates, totalling 20 fits\n"
       ]
      },
      {
       "output_type": "stream",
       "stream": "stderr",
       "text": [
        "[Parallel(n_jobs=-1)]: Done   3 jobs       | elapsed:    0.3s\n",
        "[Parallel(n_jobs=-1)]: Done   1 jobs       | elapsed:    0.3s\n",
        "[Parallel(n_jobs=-1)]: Done   4 jobs       | elapsed:    0.3s\n",
        "[Parallel(n_jobs=-1)]: Done   2 jobs       | elapsed:    0.3s\n",
        "[Parallel(n_jobs=-1)]: Done   5 jobs       | elapsed:    0.5s\n",
        "[Parallel(n_jobs=-1)]: Done   6 jobs       | elapsed:    0.5s\n",
        "[Parallel(n_jobs=-1)]: Done   7 jobs       | elapsed:    0.5s\n",
        "[Parallel(n_jobs=-1)]: Done   8 jobs       | elapsed:    0.5s\n",
        "[Parallel(n_jobs=-1)]: Done   9 jobs       | elapsed:    0.8s\n",
        "[Parallel(n_jobs=-1)]: Done  10 jobs       | elapsed:    0.8s\n",
        "[Parallel(n_jobs=-1)]: Done  12 jobs       | elapsed:    0.8s\n",
        "[Parallel(n_jobs=-1)]: Done  11 jobs       | elapsed:    0.8s\n",
        "[Parallel(n_jobs=-1)]: Done  13 jobs       | elapsed:    1.0s\n",
        "[Parallel(n_jobs=-1)]: Done  16 out of  20 | elapsed:    1.0s remaining:    0.3s\n",
        "[Parallel(n_jobs=-1)]: Done  14 out of  20 | elapsed:    1.0s remaining:    0.4s\n",
        "[Parallel(n_jobs=-1)]: Done  18 out of  20 | elapsed:    1.3s remaining:    0.1s\n",
        "[Parallel(n_jobs=-1)]: Done  20 out of  20 | elapsed:    1.3s finished\n",
        "[Parallel(n_jobs=-1)]: Done   1 out of   3 | elapsed:    0.0s remaining:    0.0s\n",
        "[Parallel(n_jobs=-1)]: Done   1 out of   3 | elapsed:    0.0s remaining:    0.0s\n",
        "[Parallel(n_jobs=-1)]: Done   1 out of   3 | elapsed:    0.0s remaining:    0.0s\n",
        "[Parallel(n_jobs=-1)]: Done   1 out of   1 | elapsed:    0.0s remaining:    0.0s\n",
        "[Parallel(n_jobs=-1)]: Done   3 out of   3 | elapsed:    0.0s finished\n",
        "[Parallel(n_jobs=-1)]: Done   3 out of   3 | elapsed:    0.0s finished\n",
        "[Parallel(n_jobs=-1)]: Done   3 out of   3 | elapsed:    0.0s finished\n",
        "[Parallel(n_jobs=-1)]: Done   3 out of   3 | elapsed:    0.0s finished\n",
        "[Parallel(n_jobs=3)]: Done   1 out of   3 | elapsed:    0.0s remaining:    0.0s\n",
        "[Parallel(n_jobs=3)]: Done   1 out of   3 | elapsed:    0.0s remaining:    0.0s\n",
        "[Parallel(n_jobs=3)]: Done   1 out of   2 | elapsed:    0.0s remaining:    0.0s\n",
        "[Parallel(n_jobs=3)]: Done   1 out of   3 | elapsed:    0.0s remaining:    0.0s\n",
        "[Parallel(n_jobs=3)]: Done   3 out of   3 | elapsed:    0.0s finished\n",
        "[Parallel(n_jobs=3)]: Done   3 out of   3 | elapsed:    0.0s finished\n",
        "[Parallel(n_jobs=3)]: Done   3 out of   3 | elapsed:    0.0s finished\n",
        "[Parallel(n_jobs=3)]: Done   3 out of   3 | elapsed:    0.0s finished\n",
        "[Parallel(n_jobs=-1)]: Done   1 out of   3 | elapsed:    0.0s remaining:    0.0s\n",
        "[Parallel(n_jobs=-1)]: Done   1 out of   3 | elapsed:    0.0s remaining:    0.0s\n",
        "[Parallel(n_jobs=-1)]: Done   1 out of   3 | elapsed:    0.0s remaining:    0.0s\n",
        "[Parallel(n_jobs=-1)]: Done   1 out of   3 | elapsed:    0.0s remaining:    0.0s\n",
        "[Parallel(n_jobs=-1)]: Done   3 out of   3 | elapsed:    0.0s finished\n",
        "[Parallel(n_jobs=-1)]: Done   3 out of   3 | elapsed:    0.0s finished\n",
        "[Parallel(n_jobs=-1)]: Done   3 out of   3 | elapsed:    0.0s finished\n",
        "[Parallel(n_jobs=-1)]: Done   3 out of   3 | elapsed:    0.0s finished\n",
        "[Parallel(n_jobs=3)]: Done   1 out of   3 | elapsed:    0.0s remaining:    0.0s\n",
        "[Parallel(n_jobs=3)]: Done   1 out of   3 | elapsed:    0.0s remaining:    0.0s\n",
        "[Parallel(n_jobs=3)]: Done   1 out of   3 | elapsed:    0.0s remaining:    0.0s\n",
        "[Parallel(n_jobs=3)]: Done   1 out of   3 | elapsed:    0.0s remaining:    0.0s\n",
        "[Parallel(n_jobs=3)]: Done   3 out of   3 | elapsed:    0.0s finished\n",
        "[Parallel(n_jobs=3)]: Done   3 out of   3 | elapsed:    0.0s finished\n",
        "[Parallel(n_jobs=3)]: Done   3 out of   3 | elapsed:    0.0s finished\n",
        "[Parallel(n_jobs=3)]: Done   3 out of   3 | elapsed:    0.0s finished\n",
        "[Parallel(n_jobs=-1)]: Done   1 out of   3 | elapsed:    0.0s remaining:    0.0s\n",
        "[Parallel(n_jobs=-1)]: Done   1 out of   3 | elapsed:    0.0s remaining:    0.0s\n",
        "[Parallel(n_jobs=-1)]: Done   1 out of   3 | elapsed:    0.0s remaining:    0.0s\n",
        "[Parallel(n_jobs=-1)]: Done   1 out of   3 | elapsed:    0.0s remaining:    0.0s\n",
        "[Parallel(n_jobs=-1)]: Done   3 out of   3 | elapsed:    0.0s finished\n",
        "[Parallel(n_jobs=-1)]: Done   3 out of   3 | elapsed:    0.0s finished\n",
        "[Parallel(n_jobs=-1)]: Done   3 out of   3 | elapsed:    0.0s finished\n",
        "[Parallel(n_jobs=-1)]: Done   3 out of   3 | elapsed:    0.0s finished\n",
        "[Parallel(n_jobs=3)]: Done   1 out of   3 | elapsed:    0.0s remaining:    0.0s\n",
        "[Parallel(n_jobs=3)]: Done   1 out of   3 | elapsed:    0.0s remaining:    0.0s\n",
        "[Parallel(n_jobs=3)]: Done   1 out of   2 | elapsed:    0.0s remaining:    0.0s\n",
        "[Parallel(n_jobs=3)]: Done   1 out of   3 | elapsed:    0.0s remaining:    0.0s\n",
        "[Parallel(n_jobs=3)]: Done   3 out of   3 | elapsed:    0.0s finished\n",
        "[Parallel(n_jobs=3)]: Done   3 out of   3 | elapsed:    0.0s finished\n",
        "[Parallel(n_jobs=3)]: Done   3 out of   3 | elapsed:    0.0s finished\n",
        "[Parallel(n_jobs=3)]: Done   3 out of   3 | elapsed:    0.0s finished\n",
        "[Parallel(n_jobs=-1)]: Done   1 out of   3 | elapsed:    0.0s remaining:    0.0s\n",
        "[Parallel(n_jobs=-1)]: Done   1 out of   2 | elapsed:    0.0s remaining:    0.0s\n",
        "[Parallel(n_jobs=-1)]: Done   1 out of   3 | elapsed:    0.0s remaining:    0.0s\n",
        "[Parallel(n_jobs=-1)]: Done   1 out of   3 | elapsed:    0.0s remaining:    0.0s\n",
        "[Parallel(n_jobs=-1)]: Done   3 out of   3 | elapsed:    0.0s finished\n",
        "[Parallel(n_jobs=-1)]: Done   3 out of   3 | elapsed:    0.0s finished\n",
        "[Parallel(n_jobs=-1)]: Done   3 out of   3 | elapsed:    0.0s finished\n",
        "[Parallel(n_jobs=-1)]: Done   3 out of   3 | elapsed:    0.0s finished\n",
        "[Parallel(n_jobs=3)]: Done   1 out of   3 | elapsed:    0.0s remaining:    0.0s\n",
        "[Parallel(n_jobs=3)]: Done   1 out of   3 | elapsed:    0.0s remaining:    0.0s\n",
        "[Parallel(n_jobs=3)]: Done   1 out of   3 | elapsed:    0.0s remaining:    0.0s\n",
        "[Parallel(n_jobs=3)]: Done   1 out of   3 | elapsed:    0.0s remaining:    0.0s\n",
        "[Parallel(n_jobs=3)]: Done   3 out of   3 | elapsed:    0.0s finished\n",
        "[Parallel(n_jobs=3)]: Done   3 out of   3 | elapsed:    0.0s finished\n",
        "[Parallel(n_jobs=3)]: Done   3 out of   3 | elapsed:    0.0s finished\n",
        "[Parallel(n_jobs=3)]: Done   3 out of   3 | elapsed:    0.0s finished\n",
        "[Parallel(n_jobs=-1)]: Done   1 out of   3 | elapsed:    0.0s remaining:    0.0s\n",
        "[Parallel(n_jobs=-1)]: Done   1 out of   3 | elapsed:    0.0s remaining:    0.0s\n",
        "[Parallel(n_jobs=-1)]: Done   1 out of   3 | elapsed:    0.0s remaining:    0.0s\n",
        "[Parallel(n_jobs=-1)]: Done   1 out of   2 | elapsed:    0.0s remaining:    0.0s\n",
        "[Parallel(n_jobs=-1)]: Done   3 out of   3 | elapsed:    0.0s finished\n",
        "[Parallel(n_jobs=-1)]: Done   3 out of   3 | elapsed:    0.0s finished\n",
        "[Parallel(n_jobs=-1)]: Done   3 out of   3 | elapsed:    0.0s finished\n",
        "[Parallel(n_jobs=-1)]: Done   3 out of   3 | elapsed:    0.0s finished\n",
        "[Parallel(n_jobs=3)]: Done   1 out of   3 | elapsed:    0.0s remaining:    0.0s\n",
        "[Parallel(n_jobs=3)]: Done   1 out of   3 | elapsed:    0.0s remaining:    0.0s\n",
        "[Parallel(n_jobs=3)]: Done   1 out of   1 | elapsed:    0.0s remaining:    0.0s\n",
        "[Parallel(n_jobs=3)]: Done   1 out of   3 | elapsed:    0.0s remaining:    0.0s\n",
        "[Parallel(n_jobs=3)]: Done   3 out of   3 | elapsed:    0.0s finished\n",
        "[Parallel(n_jobs=3)]: Done   3 out of   3 | elapsed:    0.0s finished\n",
        "[Parallel(n_jobs=3)]: Done   3 out of   3 | elapsed:    0.0s finished\n",
        "[Parallel(n_jobs=3)]: Done   3 out of   3 | elapsed:    0.0s finished\n"
       ]
      },
      {
       "output_type": "stream",
       "stream": "stdout",
       "text": [
        "Best parameters found by grid search:\n",
        "{'max_features': 4, 'max_depth': 1}\n",
        "Best CV score:\n",
        "-2.84188594804\n",
        "[CV] max_features=4, max_depth=1 .....................................\n",
        "[CV] max_features=4, max_depth=1 .....................................\n",
        "[CV] max_features=5, max_depth=1 .....................................\n",
        "[CV] max_features=5, max_depth=1 .....................................\n",
        "[CV] ........... max_features=4, max_depth=1, score=-2.850439 -   0.3s[CV] ........... max_features=4, max_depth=1, score=-2.833333 -   0.3s[CV] ........... max_features=5, max_depth=1, score=-2.850439 -   0.3s[CV] ........... max_features=5, max_depth=1, score=-2.833333 -   0.2s\n",
        "\n",
        "\n",
        "\n",
        "[CV] max_features=6, max_depth=1 .....................................\n",
        "[CV] max_features=7, max_depth=1 .....................................\n",
        "[CV] max_features=6, max_depth=1 .....................................\n",
        "[CV] max_features=7, max_depth=1 .....................................\n",
        "[CV] ........... max_features=6, max_depth=1, score=-2.833333 -   0.2s[CV] ........... max_features=7, max_depth=1, score=-2.833333 -   0.2s[CV] ........... max_features=6, max_depth=1, score=-2.850439 -   0.2s[CV] ........... max_features=7, max_depth=1, score=-2.850439 -   0.2s\n",
        "\n",
        "\n",
        "\n",
        "[CV] max_features=8, max_depth=1 .....................................\n",
        "[CV] max_features=4, max_depth=2 .....................................\n",
        "[CV] max_features=8, max_depth=1 .....................................\n",
        "[CV] max_features=4, max_depth=2 .....................................\n",
        "[CV] ........... max_features=8, max_depth=1, score=-2.833333 -   0.2s[CV] ........... max_features=4, max_depth=2, score=-2.833333 -   0.2s[CV] ........... max_features=8, max_depth=1, score=-2.850439 -   0.2s[CV] ........... max_features=4, max_depth=2, score=-2.850439 -   0.2s\n",
        "\n",
        "\n",
        "\n",
        "[CV] max_features=5, max_depth=2 .....................................\n",
        "[CV] max_features=6, max_depth=2 .....................................\n",
        "[CV] max_features=5, max_depth=2 .....................................\n",
        "[CV] max_features=6, max_depth=2 .....................................\n",
        "[CV] ........... max_features=5, max_depth=2, score=-2.833333 -   0.2s[CV] ........... max_features=6, max_depth=2, score=-2.850439 -   0.2s[CV] ........... max_features=5, max_depth=2, score=-2.850439 -   0.2s[CV] ........... max_features=6, max_depth=2, score=-2.833333 -   0.2s\n",
        "\n",
        "\n",
        "\n",
        "[CV] max_features=8, max_depth=2 .....................................\n",
        "[CV] max_features=8, max_depth=2 .....................................\n",
        "[CV] max_features=7, max_depth=2 .....................................\n",
        "[CV] max_features=7, max_depth=2 .....................................\n",
        "[CV] ........... max_features=8, max_depth=2, score=-2.833333 -   0.2s[CV] ........... max_features=8, max_depth=2, score=-2.850439 -   0.2s[CV] ........... max_features=7, max_depth=2, score=-2.850439 -   0.2s[CV] ........... max_features=7, max_depth=2, score=-2.833333 -   0.2s\n",
        "\n",
        "\n",
        "\n"
       ]
      },
      {
       "output_type": "stream",
       "stream": "stderr",
       "text": [
        "[Parallel(n_jobs=-1)]: Done   1 out of   3 | elapsed:    0.0s remaining:    0.0s\n",
        "[Parallel(n_jobs=-1)]: Done   3 out of   3 | elapsed:    0.0s finished\n"
       ]
      }
     ],
     "prompt_number": 142
    },
    {
     "cell_type": "code",
     "collapsed": false,
     "input": [
      "random_forest_tuned.predict(X_test_feature_engineered)"
     ],
     "language": "python",
     "metadata": {},
     "outputs": [
      {
       "output_type": "stream",
       "stream": "stderr",
       "text": [
        "[Parallel(n_jobs=3)]: Done   1 out of   3 | elapsed:    0.0s remaining:    0.0s\n",
        "[Parallel(n_jobs=3)]: Done   3 out of   3 | elapsed:    0.0s finished\n"
       ]
      },
      {
       "metadata": {},
       "output_type": "pyout",
       "prompt_number": 143,
       "text": [
        "array([ 1.        ,  3.83333333])"
       ]
      }
     ],
     "prompt_number": 143
    },
    {
     "cell_type": "code",
     "collapsed": false,
     "input": [],
     "language": "python",
     "metadata": {},
     "outputs": []
    }
   ],
   "metadata": {}
  }
 ]
}